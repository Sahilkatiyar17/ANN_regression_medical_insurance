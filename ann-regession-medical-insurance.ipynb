{
 "cells": [
  {
   "cell_type": "code",
   "execution_count": 1,
   "id": "d20f14c8",
   "metadata": {
    "_cell_guid": "b1076dfc-b9ad-4769-8c92-a6c4dae69d19",
    "_uuid": "8f2839f25d086af736a60e9eeb907d3b93b6e0e5",
    "execution": {
     "iopub.execute_input": "2025-05-31T16:50:25.437221Z",
     "iopub.status.busy": "2025-05-31T16:50:25.436935Z",
     "iopub.status.idle": "2025-05-31T16:50:27.091272Z",
     "shell.execute_reply": "2025-05-31T16:50:27.090317Z"
    },
    "papermill": {
     "duration": 1.663273,
     "end_time": "2025-05-31T16:50:27.092801",
     "exception": false,
     "start_time": "2025-05-31T16:50:25.429528",
     "status": "completed"
    },
    "tags": []
   },
   "outputs": [
    {
     "name": "stdout",
     "output_type": "stream",
     "text": [
      "/kaggle/input/insurance/insurance.csv\n"
     ]
    }
   ],
   "source": [
    "# This Python 3 environment comes with many helpful analytics libraries installed\n",
    "# It is defined by the kaggle/python Docker image: https://github.com/kaggle/docker-python\n",
    "# For example, here's several helpful packages to load\n",
    "\n",
    "import numpy as np # linear algebra\n",
    "import pandas as pd # data processing, CSV file I/O (e.g. pd.read_csv)\n",
    "\n",
    "# Input data files are available in the read-only \"../input/\" directory\n",
    "# For example, running this (by clicking run or pressing Shift+Enter) will list all files under the input directory\n",
    "\n",
    "import os\n",
    "for dirname, _, filenames in os.walk('/kaggle/input'):\n",
    "    for filename in filenames:\n",
    "        print(os.path.join(dirname, filename))\n",
    "\n",
    "# You can write up to 20GB to the current directory (/kaggle/working/) that gets preserved as output when you create a version using \"Save & Run All\" \n",
    "# You can also write temporary files to /kaggle/temp/, but they won't be saved outside of the current session"
   ]
  },
  {
   "cell_type": "code",
   "execution_count": null,
   "id": "0107c5ab",
   "metadata": {
    "papermill": {
     "duration": 0.005197,
     "end_time": "2025-05-31T16:50:27.103910",
     "exception": false,
     "start_time": "2025-05-31T16:50:27.098713",
     "status": "completed"
    },
    "tags": []
   },
   "outputs": [],
   "source": []
  },
  {
   "cell_type": "code",
   "execution_count": 2,
   "id": "74da4b76",
   "metadata": {
    "execution": {
     "iopub.execute_input": "2025-05-31T16:50:27.116249Z",
     "iopub.status.busy": "2025-05-31T16:50:27.115636Z",
     "iopub.status.idle": "2025-05-31T16:50:27.158080Z",
     "shell.execute_reply": "2025-05-31T16:50:27.157234Z"
    },
    "papermill": {
     "duration": 0.050244,
     "end_time": "2025-05-31T16:50:27.159654",
     "exception": false,
     "start_time": "2025-05-31T16:50:27.109410",
     "status": "completed"
    },
    "tags": []
   },
   "outputs": [
    {
     "data": {
      "text/html": [
       "<div>\n",
       "<style scoped>\n",
       "    .dataframe tbody tr th:only-of-type {\n",
       "        vertical-align: middle;\n",
       "    }\n",
       "\n",
       "    .dataframe tbody tr th {\n",
       "        vertical-align: top;\n",
       "    }\n",
       "\n",
       "    .dataframe thead th {\n",
       "        text-align: right;\n",
       "    }\n",
       "</style>\n",
       "<table border=\"1\" class=\"dataframe\">\n",
       "  <thead>\n",
       "    <tr style=\"text-align: right;\">\n",
       "      <th></th>\n",
       "      <th>age</th>\n",
       "      <th>sex</th>\n",
       "      <th>bmi</th>\n",
       "      <th>children</th>\n",
       "      <th>smoker</th>\n",
       "      <th>region</th>\n",
       "      <th>charges</th>\n",
       "    </tr>\n",
       "  </thead>\n",
       "  <tbody>\n",
       "    <tr>\n",
       "      <th>0</th>\n",
       "      <td>19</td>\n",
       "      <td>female</td>\n",
       "      <td>27.900</td>\n",
       "      <td>0</td>\n",
       "      <td>yes</td>\n",
       "      <td>southwest</td>\n",
       "      <td>16884.92400</td>\n",
       "    </tr>\n",
       "    <tr>\n",
       "      <th>1</th>\n",
       "      <td>18</td>\n",
       "      <td>male</td>\n",
       "      <td>33.770</td>\n",
       "      <td>1</td>\n",
       "      <td>no</td>\n",
       "      <td>southeast</td>\n",
       "      <td>1725.55230</td>\n",
       "    </tr>\n",
       "    <tr>\n",
       "      <th>2</th>\n",
       "      <td>28</td>\n",
       "      <td>male</td>\n",
       "      <td>33.000</td>\n",
       "      <td>3</td>\n",
       "      <td>no</td>\n",
       "      <td>southeast</td>\n",
       "      <td>4449.46200</td>\n",
       "    </tr>\n",
       "    <tr>\n",
       "      <th>3</th>\n",
       "      <td>33</td>\n",
       "      <td>male</td>\n",
       "      <td>22.705</td>\n",
       "      <td>0</td>\n",
       "      <td>no</td>\n",
       "      <td>northwest</td>\n",
       "      <td>21984.47061</td>\n",
       "    </tr>\n",
       "    <tr>\n",
       "      <th>4</th>\n",
       "      <td>32</td>\n",
       "      <td>male</td>\n",
       "      <td>28.880</td>\n",
       "      <td>0</td>\n",
       "      <td>no</td>\n",
       "      <td>northwest</td>\n",
       "      <td>3866.85520</td>\n",
       "    </tr>\n",
       "  </tbody>\n",
       "</table>\n",
       "</div>"
      ],
      "text/plain": [
       "   age     sex     bmi  children smoker     region      charges\n",
       "0   19  female  27.900         0    yes  southwest  16884.92400\n",
       "1   18    male  33.770         1     no  southeast   1725.55230\n",
       "2   28    male  33.000         3     no  southeast   4449.46200\n",
       "3   33    male  22.705         0     no  northwest  21984.47061\n",
       "4   32    male  28.880         0     no  northwest   3866.85520"
      ]
     },
     "execution_count": 2,
     "metadata": {},
     "output_type": "execute_result"
    }
   ],
   "source": [
    "import pandas as pd\n",
    "data = pd.read_csv(\"/kaggle/input/insurance/insurance.csv\")\n",
    "data.head()"
   ]
  },
  {
   "cell_type": "code",
   "execution_count": 3,
   "id": "25efa703",
   "metadata": {
    "execution": {
     "iopub.execute_input": "2025-05-31T16:50:27.172424Z",
     "iopub.status.busy": "2025-05-31T16:50:27.171860Z",
     "iopub.status.idle": "2025-05-31T16:50:28.530175Z",
     "shell.execute_reply": "2025-05-31T16:50:28.529283Z"
    },
    "papermill": {
     "duration": 1.36661,
     "end_time": "2025-05-31T16:50:28.532024",
     "exception": false,
     "start_time": "2025-05-31T16:50:27.165414",
     "status": "completed"
    },
    "tags": []
   },
   "outputs": [],
   "source": [
    "from sklearn.model_selection import train_test_split\n",
    "from sklearn.preprocessing import StandardScaler,LabelEncoder\n"
   ]
  },
  {
   "cell_type": "markdown",
   "id": "520a0b22",
   "metadata": {
    "papermill": {
     "duration": 0.005305,
     "end_time": "2025-05-31T16:50:28.543440",
     "exception": false,
     "start_time": "2025-05-31T16:50:28.538135",
     "status": "completed"
    },
    "tags": []
   },
   "source": [
    "I need to convert my data from categorical values to numerical values."
   ]
  },
  {
   "cell_type": "code",
   "execution_count": 4,
   "id": "aa6c01c1",
   "metadata": {
    "execution": {
     "iopub.execute_input": "2025-05-31T16:50:28.557402Z",
     "iopub.status.busy": "2025-05-31T16:50:28.556944Z",
     "iopub.status.idle": "2025-05-31T16:50:28.563646Z",
     "shell.execute_reply": "2025-05-31T16:50:28.562986Z"
    },
    "papermill": {
     "duration": 0.01524,
     "end_time": "2025-05-31T16:50:28.564981",
     "exception": false,
     "start_time": "2025-05-31T16:50:28.549741",
     "status": "completed"
    },
    "tags": []
   },
   "outputs": [],
   "source": [
    "label_encoder_sex = LabelEncoder()\n",
    "data['sex'] = label_encoder_sex.fit_transform(data['sex'])"
   ]
  },
  {
   "cell_type": "code",
   "execution_count": 5,
   "id": "75ca3ae8",
   "metadata": {
    "execution": {
     "iopub.execute_input": "2025-05-31T16:50:28.577221Z",
     "iopub.status.busy": "2025-05-31T16:50:28.576940Z",
     "iopub.status.idle": "2025-05-31T16:50:28.581898Z",
     "shell.execute_reply": "2025-05-31T16:50:28.581235Z"
    },
    "papermill": {
     "duration": 0.012489,
     "end_time": "2025-05-31T16:50:28.583150",
     "exception": false,
     "start_time": "2025-05-31T16:50:28.570661",
     "status": "completed"
    },
    "tags": []
   },
   "outputs": [],
   "source": [
    "label_encoder_smoker = LabelEncoder()\n",
    "data['smoker'] = label_encoder_smoker.fit_transform(data['smoker'])"
   ]
  },
  {
   "cell_type": "code",
   "execution_count": 6,
   "id": "3410fd2a",
   "metadata": {
    "execution": {
     "iopub.execute_input": "2025-05-31T16:50:28.595658Z",
     "iopub.status.busy": "2025-05-31T16:50:28.595065Z",
     "iopub.status.idle": "2025-05-31T16:50:28.604102Z",
     "shell.execute_reply": "2025-05-31T16:50:28.603331Z"
    },
    "papermill": {
     "duration": 0.016466,
     "end_time": "2025-05-31T16:50:28.605303",
     "exception": false,
     "start_time": "2025-05-31T16:50:28.588837",
     "status": "completed"
    },
    "tags": []
   },
   "outputs": [
    {
     "data": {
      "text/plain": [
       "array(['southwest', 'southeast', 'northwest', 'northeast'], dtype=object)"
      ]
     },
     "execution_count": 6,
     "metadata": {},
     "output_type": "execute_result"
    }
   ],
   "source": [
    "data['region'].unique()"
   ]
  },
  {
   "cell_type": "markdown",
   "id": "306ed56c",
   "metadata": {
    "papermill": {
     "duration": 0.005181,
     "end_time": "2025-05-31T16:50:28.616194",
     "exception": false,
     "start_time": "2025-05-31T16:50:28.611013",
     "status": "completed"
    },
    "tags": []
   },
   "source": []
  },
  {
   "cell_type": "code",
   "execution_count": 7,
   "id": "d157303b",
   "metadata": {
    "execution": {
     "iopub.execute_input": "2025-05-31T16:50:28.628897Z",
     "iopub.status.busy": "2025-05-31T16:50:28.628244Z",
     "iopub.status.idle": "2025-05-31T16:50:28.642049Z",
     "shell.execute_reply": "2025-05-31T16:50:28.641299Z"
    },
    "papermill": {
     "duration": 0.021251,
     "end_time": "2025-05-31T16:50:28.643286",
     "exception": false,
     "start_time": "2025-05-31T16:50:28.622035",
     "status": "completed"
    },
    "tags": []
   },
   "outputs": [
    {
     "data": {
      "text/plain": [
       "<Compressed Sparse Row sparse matrix of dtype 'float64'\n",
       "\twith 1338 stored elements and shape (1338, 4)>"
      ]
     },
     "execution_count": 7,
     "metadata": {},
     "output_type": "execute_result"
    }
   ],
   "source": [
    "from sklearn.preprocessing import OneHotEncoder\n",
    "onehot_encoder_region = OneHotEncoder()\n",
    "region_encoder = onehot_encoder_region.fit_transform(data[['region']])\n",
    "region_encoder"
   ]
  },
  {
   "cell_type": "code",
   "execution_count": 8,
   "id": "e06ace49",
   "metadata": {
    "execution": {
     "iopub.execute_input": "2025-05-31T16:50:28.656544Z",
     "iopub.status.busy": "2025-05-31T16:50:28.655726Z",
     "iopub.status.idle": "2025-05-31T16:50:28.661513Z",
     "shell.execute_reply": "2025-05-31T16:50:28.660796Z"
    },
    "papermill": {
     "duration": 0.013683,
     "end_time": "2025-05-31T16:50:28.662800",
     "exception": false,
     "start_time": "2025-05-31T16:50:28.649117",
     "status": "completed"
    },
    "tags": []
   },
   "outputs": [
    {
     "data": {
      "text/plain": [
       "array(['region_northeast', 'region_northwest', 'region_southeast',\n",
       "       'region_southwest'], dtype=object)"
      ]
     },
     "execution_count": 8,
     "metadata": {},
     "output_type": "execute_result"
    }
   ],
   "source": [
    "column_region = onehot_encoder_region.get_feature_names_out(['region'])\n",
    "column_region"
   ]
  },
  {
   "cell_type": "code",
   "execution_count": 9,
   "id": "e18b556c",
   "metadata": {
    "execution": {
     "iopub.execute_input": "2025-05-31T16:50:28.675825Z",
     "iopub.status.busy": "2025-05-31T16:50:28.674961Z",
     "iopub.status.idle": "2025-05-31T16:50:28.691980Z",
     "shell.execute_reply": "2025-05-31T16:50:28.691066Z"
    },
    "papermill": {
     "duration": 0.024788,
     "end_time": "2025-05-31T16:50:28.693436",
     "exception": false,
     "start_time": "2025-05-31T16:50:28.668648",
     "status": "completed"
    },
    "tags": []
   },
   "outputs": [
    {
     "data": {
      "text/html": [
       "<div>\n",
       "<style scoped>\n",
       "    .dataframe tbody tr th:only-of-type {\n",
       "        vertical-align: middle;\n",
       "    }\n",
       "\n",
       "    .dataframe tbody tr th {\n",
       "        vertical-align: top;\n",
       "    }\n",
       "\n",
       "    .dataframe thead th {\n",
       "        text-align: right;\n",
       "    }\n",
       "</style>\n",
       "<table border=\"1\" class=\"dataframe\">\n",
       "  <thead>\n",
       "    <tr style=\"text-align: right;\">\n",
       "      <th></th>\n",
       "      <th>region_northeast</th>\n",
       "      <th>region_northwest</th>\n",
       "      <th>region_southeast</th>\n",
       "      <th>region_southwest</th>\n",
       "    </tr>\n",
       "  </thead>\n",
       "  <tbody>\n",
       "    <tr>\n",
       "      <th>0</th>\n",
       "      <td>0.0</td>\n",
       "      <td>0.0</td>\n",
       "      <td>0.0</td>\n",
       "      <td>1.0</td>\n",
       "    </tr>\n",
       "    <tr>\n",
       "      <th>1</th>\n",
       "      <td>0.0</td>\n",
       "      <td>0.0</td>\n",
       "      <td>1.0</td>\n",
       "      <td>0.0</td>\n",
       "    </tr>\n",
       "    <tr>\n",
       "      <th>2</th>\n",
       "      <td>0.0</td>\n",
       "      <td>0.0</td>\n",
       "      <td>1.0</td>\n",
       "      <td>0.0</td>\n",
       "    </tr>\n",
       "    <tr>\n",
       "      <th>3</th>\n",
       "      <td>0.0</td>\n",
       "      <td>1.0</td>\n",
       "      <td>0.0</td>\n",
       "      <td>0.0</td>\n",
       "    </tr>\n",
       "    <tr>\n",
       "      <th>4</th>\n",
       "      <td>0.0</td>\n",
       "      <td>1.0</td>\n",
       "      <td>0.0</td>\n",
       "      <td>0.0</td>\n",
       "    </tr>\n",
       "    <tr>\n",
       "      <th>...</th>\n",
       "      <td>...</td>\n",
       "      <td>...</td>\n",
       "      <td>...</td>\n",
       "      <td>...</td>\n",
       "    </tr>\n",
       "    <tr>\n",
       "      <th>1333</th>\n",
       "      <td>0.0</td>\n",
       "      <td>1.0</td>\n",
       "      <td>0.0</td>\n",
       "      <td>0.0</td>\n",
       "    </tr>\n",
       "    <tr>\n",
       "      <th>1334</th>\n",
       "      <td>1.0</td>\n",
       "      <td>0.0</td>\n",
       "      <td>0.0</td>\n",
       "      <td>0.0</td>\n",
       "    </tr>\n",
       "    <tr>\n",
       "      <th>1335</th>\n",
       "      <td>0.0</td>\n",
       "      <td>0.0</td>\n",
       "      <td>1.0</td>\n",
       "      <td>0.0</td>\n",
       "    </tr>\n",
       "    <tr>\n",
       "      <th>1336</th>\n",
       "      <td>0.0</td>\n",
       "      <td>0.0</td>\n",
       "      <td>0.0</td>\n",
       "      <td>1.0</td>\n",
       "    </tr>\n",
       "    <tr>\n",
       "      <th>1337</th>\n",
       "      <td>0.0</td>\n",
       "      <td>1.0</td>\n",
       "      <td>0.0</td>\n",
       "      <td>0.0</td>\n",
       "    </tr>\n",
       "  </tbody>\n",
       "</table>\n",
       "<p>1338 rows × 4 columns</p>\n",
       "</div>"
      ],
      "text/plain": [
       "      region_northeast  region_northwest  region_southeast  region_southwest\n",
       "0                  0.0               0.0               0.0               1.0\n",
       "1                  0.0               0.0               1.0               0.0\n",
       "2                  0.0               0.0               1.0               0.0\n",
       "3                  0.0               1.0               0.0               0.0\n",
       "4                  0.0               1.0               0.0               0.0\n",
       "...                ...               ...               ...               ...\n",
       "1333               0.0               1.0               0.0               0.0\n",
       "1334               1.0               0.0               0.0               0.0\n",
       "1335               0.0               0.0               1.0               0.0\n",
       "1336               0.0               0.0               0.0               1.0\n",
       "1337               0.0               1.0               0.0               0.0\n",
       "\n",
       "[1338 rows x 4 columns]"
      ]
     },
     "execution_count": 9,
     "metadata": {},
     "output_type": "execute_result"
    }
   ],
   "source": [
    "region_encoder_df=pd.DataFrame(region_encoder.toarray(),columns=column_region)\n",
    "region_encoder_df"
   ]
  },
  {
   "cell_type": "code",
   "execution_count": 10,
   "id": "0fcb4e02",
   "metadata": {
    "execution": {
     "iopub.execute_input": "2025-05-31T16:50:28.710691Z",
     "iopub.status.busy": "2025-05-31T16:50:28.709747Z",
     "iopub.status.idle": "2025-05-31T16:50:28.729059Z",
     "shell.execute_reply": "2025-05-31T16:50:28.728227Z"
    },
    "papermill": {
     "duration": 0.030112,
     "end_time": "2025-05-31T16:50:28.730555",
     "exception": false,
     "start_time": "2025-05-31T16:50:28.700443",
     "status": "completed"
    },
    "tags": []
   },
   "outputs": [
    {
     "data": {
      "text/html": [
       "<div>\n",
       "<style scoped>\n",
       "    .dataframe tbody tr th:only-of-type {\n",
       "        vertical-align: middle;\n",
       "    }\n",
       "\n",
       "    .dataframe tbody tr th {\n",
       "        vertical-align: top;\n",
       "    }\n",
       "\n",
       "    .dataframe thead th {\n",
       "        text-align: right;\n",
       "    }\n",
       "</style>\n",
       "<table border=\"1\" class=\"dataframe\">\n",
       "  <thead>\n",
       "    <tr style=\"text-align: right;\">\n",
       "      <th></th>\n",
       "      <th>age</th>\n",
       "      <th>sex</th>\n",
       "      <th>bmi</th>\n",
       "      <th>children</th>\n",
       "      <th>smoker</th>\n",
       "      <th>charges</th>\n",
       "      <th>region_northeast</th>\n",
       "      <th>region_northwest</th>\n",
       "      <th>region_southeast</th>\n",
       "      <th>region_southwest</th>\n",
       "    </tr>\n",
       "  </thead>\n",
       "  <tbody>\n",
       "    <tr>\n",
       "      <th>0</th>\n",
       "      <td>19</td>\n",
       "      <td>0</td>\n",
       "      <td>27.900</td>\n",
       "      <td>0</td>\n",
       "      <td>1</td>\n",
       "      <td>16884.92400</td>\n",
       "      <td>0.0</td>\n",
       "      <td>0.0</td>\n",
       "      <td>0.0</td>\n",
       "      <td>1.0</td>\n",
       "    </tr>\n",
       "    <tr>\n",
       "      <th>1</th>\n",
       "      <td>18</td>\n",
       "      <td>1</td>\n",
       "      <td>33.770</td>\n",
       "      <td>1</td>\n",
       "      <td>0</td>\n",
       "      <td>1725.55230</td>\n",
       "      <td>0.0</td>\n",
       "      <td>0.0</td>\n",
       "      <td>1.0</td>\n",
       "      <td>0.0</td>\n",
       "    </tr>\n",
       "    <tr>\n",
       "      <th>2</th>\n",
       "      <td>28</td>\n",
       "      <td>1</td>\n",
       "      <td>33.000</td>\n",
       "      <td>3</td>\n",
       "      <td>0</td>\n",
       "      <td>4449.46200</td>\n",
       "      <td>0.0</td>\n",
       "      <td>0.0</td>\n",
       "      <td>1.0</td>\n",
       "      <td>0.0</td>\n",
       "    </tr>\n",
       "    <tr>\n",
       "      <th>3</th>\n",
       "      <td>33</td>\n",
       "      <td>1</td>\n",
       "      <td>22.705</td>\n",
       "      <td>0</td>\n",
       "      <td>0</td>\n",
       "      <td>21984.47061</td>\n",
       "      <td>0.0</td>\n",
       "      <td>1.0</td>\n",
       "      <td>0.0</td>\n",
       "      <td>0.0</td>\n",
       "    </tr>\n",
       "    <tr>\n",
       "      <th>4</th>\n",
       "      <td>32</td>\n",
       "      <td>1</td>\n",
       "      <td>28.880</td>\n",
       "      <td>0</td>\n",
       "      <td>0</td>\n",
       "      <td>3866.85520</td>\n",
       "      <td>0.0</td>\n",
       "      <td>1.0</td>\n",
       "      <td>0.0</td>\n",
       "      <td>0.0</td>\n",
       "    </tr>\n",
       "  </tbody>\n",
       "</table>\n",
       "</div>"
      ],
      "text/plain": [
       "   age  sex     bmi  children  smoker      charges  region_northeast  \\\n",
       "0   19    0  27.900         0       1  16884.92400               0.0   \n",
       "1   18    1  33.770         1       0   1725.55230               0.0   \n",
       "2   28    1  33.000         3       0   4449.46200               0.0   \n",
       "3   33    1  22.705         0       0  21984.47061               0.0   \n",
       "4   32    1  28.880         0       0   3866.85520               0.0   \n",
       "\n",
       "   region_northwest  region_southeast  region_southwest  \n",
       "0               0.0               0.0               1.0  \n",
       "1               0.0               1.0               0.0  \n",
       "2               0.0               1.0               0.0  \n",
       "3               1.0               0.0               0.0  \n",
       "4               1.0               0.0               0.0  "
      ]
     },
     "execution_count": 10,
     "metadata": {},
     "output_type": "execute_result"
    }
   ],
   "source": [
    "data = pd.concat([data.drop('region',axis=1),region_encoder_df],axis=1)\n",
    "data.head()"
   ]
  },
  {
   "cell_type": "code",
   "execution_count": 11,
   "id": "d283af8f",
   "metadata": {
    "execution": {
     "iopub.execute_input": "2025-05-31T16:50:28.748662Z",
     "iopub.status.busy": "2025-05-31T16:50:28.748065Z",
     "iopub.status.idle": "2025-05-31T16:50:28.754980Z",
     "shell.execute_reply": "2025-05-31T16:50:28.754184Z"
    },
    "papermill": {
     "duration": 0.017201,
     "end_time": "2025-05-31T16:50:28.756236",
     "exception": false,
     "start_time": "2025-05-31T16:50:28.739035",
     "status": "completed"
    },
    "tags": []
   },
   "outputs": [
    {
     "data": {
      "text/plain": [
       "age                 0\n",
       "sex                 0\n",
       "bmi                 0\n",
       "children            0\n",
       "smoker              0\n",
       "charges             0\n",
       "region_northeast    0\n",
       "region_northwest    0\n",
       "region_southeast    0\n",
       "region_southwest    0\n",
       "dtype: int64"
      ]
     },
     "execution_count": 11,
     "metadata": {},
     "output_type": "execute_result"
    }
   ],
   "source": [
    "data.isnull().sum()"
   ]
  },
  {
   "cell_type": "code",
   "execution_count": 12,
   "id": "1de6f45b",
   "metadata": {
    "execution": {
     "iopub.execute_input": "2025-05-31T16:50:28.769888Z",
     "iopub.status.busy": "2025-05-31T16:50:28.769591Z",
     "iopub.status.idle": "2025-05-31T16:50:28.778963Z",
     "shell.execute_reply": "2025-05-31T16:50:28.778282Z"
    },
    "papermill": {
     "duration": 0.017423,
     "end_time": "2025-05-31T16:50:28.780155",
     "exception": false,
     "start_time": "2025-05-31T16:50:28.762732",
     "status": "completed"
    },
    "tags": []
   },
   "outputs": [
    {
     "data": {
      "text/plain": [
       "age                 0.299008\n",
       "sex                 0.057292\n",
       "bmi                 0.198341\n",
       "children            0.067998\n",
       "smoker              0.787251\n",
       "charges             1.000000\n",
       "region_northeast    0.006349\n",
       "region_northwest   -0.039905\n",
       "region_southeast    0.073982\n",
       "region_southwest   -0.043210\n",
       "Name: charges, dtype: float64"
      ]
     },
     "execution_count": 12,
     "metadata": {},
     "output_type": "execute_result"
    }
   ],
   "source": [
    "data.corr()['charges']"
   ]
  },
  {
   "cell_type": "code",
   "execution_count": 13,
   "id": "1b4d22ce",
   "metadata": {
    "execution": {
     "iopub.execute_input": "2025-05-31T16:50:28.793666Z",
     "iopub.status.busy": "2025-05-31T16:50:28.793323Z",
     "iopub.status.idle": "2025-05-31T16:50:28.828182Z",
     "shell.execute_reply": "2025-05-31T16:50:28.827584Z"
    },
    "papermill": {
     "duration": 0.043267,
     "end_time": "2025-05-31T16:50:28.829742",
     "exception": false,
     "start_time": "2025-05-31T16:50:28.786475",
     "status": "completed"
    },
    "tags": []
   },
   "outputs": [],
   "source": [
    "x=data.drop('charges',axis=1)\n",
    "y=data['charges']\n",
    "#splitting the data into train and test \n",
    "x_train,x_test,y_train,y_test = train_test_split(x,y,test_size=0.2,random_state=42)\n",
    "#sacling our data to fit in the model\n",
    "scalar = StandardScaler()\n",
    "x_train = scalar.fit_transform(x_train)\n",
    "x_test = scalar.transform(x_test)"
   ]
  },
  {
   "cell_type": "code",
   "execution_count": 14,
   "id": "7d8c4196",
   "metadata": {
    "execution": {
     "iopub.execute_input": "2025-05-31T16:50:28.848745Z",
     "iopub.status.busy": "2025-05-31T16:50:28.848368Z",
     "iopub.status.idle": "2025-05-31T16:50:28.864587Z",
     "shell.execute_reply": "2025-05-31T16:50:28.863676Z"
    },
    "papermill": {
     "duration": 0.028521,
     "end_time": "2025-05-31T16:50:28.866164",
     "exception": false,
     "start_time": "2025-05-31T16:50:28.837643",
     "status": "completed"
    },
    "tags": []
   },
   "outputs": [
    {
     "data": {
      "text/html": [
       "<div>\n",
       "<style scoped>\n",
       "    .dataframe tbody tr th:only-of-type {\n",
       "        vertical-align: middle;\n",
       "    }\n",
       "\n",
       "    .dataframe tbody tr th {\n",
       "        vertical-align: top;\n",
       "    }\n",
       "\n",
       "    .dataframe thead th {\n",
       "        text-align: right;\n",
       "    }\n",
       "</style>\n",
       "<table border=\"1\" class=\"dataframe\">\n",
       "  <thead>\n",
       "    <tr style=\"text-align: right;\">\n",
       "      <th></th>\n",
       "      <th>age</th>\n",
       "      <th>sex</th>\n",
       "      <th>bmi</th>\n",
       "      <th>children</th>\n",
       "      <th>smoker</th>\n",
       "      <th>region_northeast</th>\n",
       "      <th>region_northwest</th>\n",
       "      <th>region_southeast</th>\n",
       "      <th>region_southwest</th>\n",
       "    </tr>\n",
       "  </thead>\n",
       "  <tbody>\n",
       "    <tr>\n",
       "      <th>0</th>\n",
       "      <td>19</td>\n",
       "      <td>0</td>\n",
       "      <td>27.900</td>\n",
       "      <td>0</td>\n",
       "      <td>1</td>\n",
       "      <td>0.0</td>\n",
       "      <td>0.0</td>\n",
       "      <td>0.0</td>\n",
       "      <td>1.0</td>\n",
       "    </tr>\n",
       "    <tr>\n",
       "      <th>1</th>\n",
       "      <td>18</td>\n",
       "      <td>1</td>\n",
       "      <td>33.770</td>\n",
       "      <td>1</td>\n",
       "      <td>0</td>\n",
       "      <td>0.0</td>\n",
       "      <td>0.0</td>\n",
       "      <td>1.0</td>\n",
       "      <td>0.0</td>\n",
       "    </tr>\n",
       "    <tr>\n",
       "      <th>2</th>\n",
       "      <td>28</td>\n",
       "      <td>1</td>\n",
       "      <td>33.000</td>\n",
       "      <td>3</td>\n",
       "      <td>0</td>\n",
       "      <td>0.0</td>\n",
       "      <td>0.0</td>\n",
       "      <td>1.0</td>\n",
       "      <td>0.0</td>\n",
       "    </tr>\n",
       "    <tr>\n",
       "      <th>3</th>\n",
       "      <td>33</td>\n",
       "      <td>1</td>\n",
       "      <td>22.705</td>\n",
       "      <td>0</td>\n",
       "      <td>0</td>\n",
       "      <td>0.0</td>\n",
       "      <td>1.0</td>\n",
       "      <td>0.0</td>\n",
       "      <td>0.0</td>\n",
       "    </tr>\n",
       "    <tr>\n",
       "      <th>4</th>\n",
       "      <td>32</td>\n",
       "      <td>1</td>\n",
       "      <td>28.880</td>\n",
       "      <td>0</td>\n",
       "      <td>0</td>\n",
       "      <td>0.0</td>\n",
       "      <td>1.0</td>\n",
       "      <td>0.0</td>\n",
       "      <td>0.0</td>\n",
       "    </tr>\n",
       "    <tr>\n",
       "      <th>...</th>\n",
       "      <td>...</td>\n",
       "      <td>...</td>\n",
       "      <td>...</td>\n",
       "      <td>...</td>\n",
       "      <td>...</td>\n",
       "      <td>...</td>\n",
       "      <td>...</td>\n",
       "      <td>...</td>\n",
       "      <td>...</td>\n",
       "    </tr>\n",
       "    <tr>\n",
       "      <th>1333</th>\n",
       "      <td>50</td>\n",
       "      <td>1</td>\n",
       "      <td>30.970</td>\n",
       "      <td>3</td>\n",
       "      <td>0</td>\n",
       "      <td>0.0</td>\n",
       "      <td>1.0</td>\n",
       "      <td>0.0</td>\n",
       "      <td>0.0</td>\n",
       "    </tr>\n",
       "    <tr>\n",
       "      <th>1334</th>\n",
       "      <td>18</td>\n",
       "      <td>0</td>\n",
       "      <td>31.920</td>\n",
       "      <td>0</td>\n",
       "      <td>0</td>\n",
       "      <td>1.0</td>\n",
       "      <td>0.0</td>\n",
       "      <td>0.0</td>\n",
       "      <td>0.0</td>\n",
       "    </tr>\n",
       "    <tr>\n",
       "      <th>1335</th>\n",
       "      <td>18</td>\n",
       "      <td>0</td>\n",
       "      <td>36.850</td>\n",
       "      <td>0</td>\n",
       "      <td>0</td>\n",
       "      <td>0.0</td>\n",
       "      <td>0.0</td>\n",
       "      <td>1.0</td>\n",
       "      <td>0.0</td>\n",
       "    </tr>\n",
       "    <tr>\n",
       "      <th>1336</th>\n",
       "      <td>21</td>\n",
       "      <td>0</td>\n",
       "      <td>25.800</td>\n",
       "      <td>0</td>\n",
       "      <td>0</td>\n",
       "      <td>0.0</td>\n",
       "      <td>0.0</td>\n",
       "      <td>0.0</td>\n",
       "      <td>1.0</td>\n",
       "    </tr>\n",
       "    <tr>\n",
       "      <th>1337</th>\n",
       "      <td>61</td>\n",
       "      <td>0</td>\n",
       "      <td>29.070</td>\n",
       "      <td>0</td>\n",
       "      <td>1</td>\n",
       "      <td>0.0</td>\n",
       "      <td>1.0</td>\n",
       "      <td>0.0</td>\n",
       "      <td>0.0</td>\n",
       "    </tr>\n",
       "  </tbody>\n",
       "</table>\n",
       "<p>1338 rows × 9 columns</p>\n",
       "</div>"
      ],
      "text/plain": [
       "      age  sex     bmi  children  smoker  region_northeast  region_northwest  \\\n",
       "0      19    0  27.900         0       1               0.0               0.0   \n",
       "1      18    1  33.770         1       0               0.0               0.0   \n",
       "2      28    1  33.000         3       0               0.0               0.0   \n",
       "3      33    1  22.705         0       0               0.0               1.0   \n",
       "4      32    1  28.880         0       0               0.0               1.0   \n",
       "...   ...  ...     ...       ...     ...               ...               ...   \n",
       "1333   50    1  30.970         3       0               0.0               1.0   \n",
       "1334   18    0  31.920         0       0               1.0               0.0   \n",
       "1335   18    0  36.850         0       0               0.0               0.0   \n",
       "1336   21    0  25.800         0       0               0.0               0.0   \n",
       "1337   61    0  29.070         0       1               0.0               1.0   \n",
       "\n",
       "      region_southeast  region_southwest  \n",
       "0                  0.0               1.0  \n",
       "1                  1.0               0.0  \n",
       "2                  1.0               0.0  \n",
       "3                  0.0               0.0  \n",
       "4                  0.0               0.0  \n",
       "...                ...               ...  \n",
       "1333               0.0               0.0  \n",
       "1334               0.0               0.0  \n",
       "1335               1.0               0.0  \n",
       "1336               0.0               1.0  \n",
       "1337               0.0               0.0  \n",
       "\n",
       "[1338 rows x 9 columns]"
      ]
     },
     "execution_count": 14,
     "metadata": {},
     "output_type": "execute_result"
    }
   ],
   "source": [
    "x"
   ]
  },
  {
   "cell_type": "code",
   "execution_count": 15,
   "id": "e458640d",
   "metadata": {
    "execution": {
     "iopub.execute_input": "2025-05-31T16:50:28.885685Z",
     "iopub.status.busy": "2025-05-31T16:50:28.885290Z",
     "iopub.status.idle": "2025-05-31T16:50:28.891816Z",
     "shell.execute_reply": "2025-05-31T16:50:28.890978Z"
    },
    "papermill": {
     "duration": 0.016974,
     "end_time": "2025-05-31T16:50:28.893121",
     "exception": false,
     "start_time": "2025-05-31T16:50:28.876147",
     "status": "completed"
    },
    "tags": []
   },
   "outputs": [
    {
     "data": {
      "text/plain": [
       "(1070, 9)"
      ]
     },
     "execution_count": 15,
     "metadata": {},
     "output_type": "execute_result"
    }
   ],
   "source": [
    "x_train.shape"
   ]
  },
  {
   "cell_type": "markdown",
   "id": "f1b2e917",
   "metadata": {
    "papermill": {
     "duration": 0.009381,
     "end_time": "2025-05-31T16:50:28.912350",
     "exception": false,
     "start_time": "2025-05-31T16:50:28.902969",
     "status": "completed"
    },
    "tags": []
   },
   "source": [
    "ANN regression"
   ]
  },
  {
   "cell_type": "code",
   "execution_count": 16,
   "id": "3a0bbb43",
   "metadata": {
    "execution": {
     "iopub.execute_input": "2025-05-31T16:50:28.931228Z",
     "iopub.status.busy": "2025-05-31T16:50:28.930836Z",
     "iopub.status.idle": "2025-05-31T16:50:33.366618Z",
     "shell.execute_reply": "2025-05-31T16:50:33.365636Z"
    },
    "papermill": {
     "duration": 4.446911,
     "end_time": "2025-05-31T16:50:33.368869",
     "exception": false,
     "start_time": "2025-05-31T16:50:28.921958",
     "status": "completed"
    },
    "tags": []
   },
   "outputs": [],
   "source": [
    "!pip install keras-tuner --quiet\n"
   ]
  },
  {
   "cell_type": "code",
   "execution_count": 17,
   "id": "529b2892",
   "metadata": {
    "execution": {
     "iopub.execute_input": "2025-05-31T16:50:33.383387Z",
     "iopub.status.busy": "2025-05-31T16:50:33.383059Z",
     "iopub.status.idle": "2025-05-31T16:50:49.413106Z",
     "shell.execute_reply": "2025-05-31T16:50:49.412080Z"
    },
    "papermill": {
     "duration": 16.039028,
     "end_time": "2025-05-31T16:50:49.414712",
     "exception": false,
     "start_time": "2025-05-31T16:50:33.375684",
     "status": "completed"
    },
    "tags": []
   },
   "outputs": [
    {
     "name": "stderr",
     "output_type": "stream",
     "text": [
      "2025-05-31 16:50:35.623400: E external/local_xla/xla/stream_executor/cuda/cuda_fft.cc:477] Unable to register cuFFT factory: Attempting to register factory for plugin cuFFT when one has already been registered\n",
      "WARNING: All log messages before absl::InitializeLog() is called are written to STDERR\n",
      "E0000 00:00:1748710235.864015      13 cuda_dnn.cc:8310] Unable to register cuDNN factory: Attempting to register factory for plugin cuDNN when one has already been registered\n",
      "E0000 00:00:1748710235.933158      13 cuda_blas.cc:1418] Unable to register cuBLAS factory: Attempting to register factory for plugin cuBLAS when one has already been registered\n",
      "/tmp/ipykernel_13/1046821010.py:1: DeprecationWarning: `import kerastuner` is deprecated, please use `import keras_tuner`.\n",
      "  import kerastuner as kt\n"
     ]
    }
   ],
   "source": [
    "import kerastuner as kt\n",
    "from tensorflow.keras.models import Sequential\n",
    "from tensorflow.keras.models import Sequential\n",
    "from tensorflow.keras.layers import Dense , Dropout\n",
    "from tensorflow.keras.callbacks import EarlyStopping \n",
    "from tensorflow.keras.optimizers import Adam\n",
    "from tensorflow.keras.losses import BinaryCrossentropy\n",
    "from tensorflow.keras.metrics import Accuracy"
   ]
  },
  {
   "cell_type": "markdown",
   "id": "79713fac",
   "metadata": {
    "papermill": {
     "duration": 0.006362,
     "end_time": "2025-05-31T16:50:49.428076",
     "exception": false,
     "start_time": "2025-05-31T16:50:49.421714",
     "status": "completed"
    },
    "tags": []
   },
   "source": [
    "by using the keras-tuner , I have experiment with my model. this library helps in finding the best values for our models."
   ]
  },
  {
   "cell_type": "code",
   "execution_count": 18,
   "id": "16c47fe9",
   "metadata": {
    "execution": {
     "iopub.execute_input": "2025-05-31T16:50:49.443100Z",
     "iopub.status.busy": "2025-05-31T16:50:49.442221Z",
     "iopub.status.idle": "2025-05-31T16:50:49.449310Z",
     "shell.execute_reply": "2025-05-31T16:50:49.448705Z"
    },
    "papermill": {
     "duration": 0.015953,
     "end_time": "2025-05-31T16:50:49.450624",
     "exception": false,
     "start_time": "2025-05-31T16:50:49.434671",
     "status": "completed"
    },
    "tags": []
   },
   "outputs": [],
   "source": [
    "def build_model(hp):\n",
    "    model = Sequential()\n",
    "    counter=0\n",
    "    for i in range(hp.Int('num_layer',min_value=1,max_value=9)):\n",
    "\n",
    "        if counter == 0:\n",
    "            model.add(Dense(hp.Int('unit'+str(i),min_value=8,max_value=100),activation=hp.Choice('activation'+str(i),values=['relu','tanh','sigmoid']),input_dim=9))\n",
    "            model.add(Dropout(hp.Choice('dropout'+str(i),values=[0.1,0.2,0.3,0.4,0.5,0.6,0.7,0.8,0.9])))\n",
    "        else:\n",
    "             model.add(Dense(hp.Int('unit'+str(i),min_value=8,max_value=128),activation=hp.Choice('activation'+str(i),values=['relu','tanh','sigmoid'])))\n",
    "             model.add(Dropout(hp.Choice('dropout'+str(i),values=[0.1,0.2,0.3,0.4,0.5,0.6,0.7,0.8,0.9])))\n",
    "        counter+=1\n",
    "    model.add(Dense(1,activation='linear'))\n",
    "    model.compile(optimizer=hp.Choice('optimizer',values=['adam','sgd','rmsprop','adadelta']),loss='mse',metrics=['accuracy'])\n",
    "    return model"
   ]
  },
  {
   "cell_type": "code",
   "execution_count": 19,
   "id": "5e0b7409",
   "metadata": {
    "execution": {
     "iopub.execute_input": "2025-05-31T16:50:49.465142Z",
     "iopub.status.busy": "2025-05-31T16:50:49.464374Z",
     "iopub.status.idle": "2025-05-31T16:50:49.557189Z",
     "shell.execute_reply": "2025-05-31T16:50:49.556488Z"
    },
    "papermill": {
     "duration": 0.101686,
     "end_time": "2025-05-31T16:50:49.558905",
     "exception": false,
     "start_time": "2025-05-31T16:50:49.457219",
     "status": "completed"
    },
    "tags": []
   },
   "outputs": [
    {
     "name": "stderr",
     "output_type": "stream",
     "text": [
      "2025-05-31 16:50:49.468865: E external/local_xla/xla/stream_executor/cuda/cuda_driver.cc:152] failed call to cuInit: INTERNAL: CUDA error: Failed call to cuInit: UNKNOWN ERROR (303)\n",
      "/usr/local/lib/python3.11/dist-packages/keras/src/layers/core/dense.py:87: UserWarning: Do not pass an `input_shape`/`input_dim` argument to a layer. When using Sequential models, prefer using an `Input(shape)` object as the first layer in the model instead.\n",
      "  super().__init__(activity_regularizer=activity_regularizer, **kwargs)\n"
     ]
    }
   ],
   "source": [
    "tuner = kt.RandomSearch(build_model,objective='val_accuracy',max_trials=4,directory='mydir',project_name='1_appt')"
   ]
  },
  {
   "cell_type": "code",
   "execution_count": 20,
   "id": "cf3609c1",
   "metadata": {
    "execution": {
     "iopub.execute_input": "2025-05-31T16:50:49.575230Z",
     "iopub.status.busy": "2025-05-31T16:50:49.574497Z",
     "iopub.status.idle": "2025-05-31T16:51:07.974894Z",
     "shell.execute_reply": "2025-05-31T16:51:07.973840Z"
    },
    "papermill": {
     "duration": 18.410073,
     "end_time": "2025-05-31T16:51:07.976295",
     "exception": false,
     "start_time": "2025-05-31T16:50:49.566222",
     "status": "completed"
    },
    "tags": []
   },
   "outputs": [
    {
     "name": "stdout",
     "output_type": "stream",
     "text": [
      "Trial 4 Complete [00h 00m 07s]\n",
      "val_accuracy: 0.0\n",
      "\n",
      "Best val_accuracy So Far: 0.0\n",
      "Total elapsed time: 00h 00m 18s\n"
     ]
    }
   ],
   "source": [
    "tuner.search(x_train,y_train,epochs=5,validation_data=(x_test,y_test))"
   ]
  },
  {
   "cell_type": "code",
   "execution_count": 21,
   "id": "7ce5bd15",
   "metadata": {
    "execution": {
     "iopub.execute_input": "2025-05-31T16:51:07.991650Z",
     "iopub.status.busy": "2025-05-31T16:51:07.991233Z",
     "iopub.status.idle": "2025-05-31T16:51:08.000505Z",
     "shell.execute_reply": "2025-05-31T16:51:07.999410Z"
    },
    "papermill": {
     "duration": 0.01835,
     "end_time": "2025-05-31T16:51:08.001896",
     "exception": false,
     "start_time": "2025-05-31T16:51:07.983546",
     "status": "completed"
    },
    "tags": []
   },
   "outputs": [
    {
     "data": {
      "text/plain": [
       "{'num_layer': 5,\n",
       " 'unit0': 67,\n",
       " 'activation0': 'sigmoid',\n",
       " 'dropout0': 0.6,\n",
       " 'optimizer': 'sgd',\n",
       " 'unit1': 8,\n",
       " 'activation1': 'relu',\n",
       " 'dropout1': 0.1,\n",
       " 'unit2': 8,\n",
       " 'activation2': 'relu',\n",
       " 'dropout2': 0.1,\n",
       " 'unit3': 8,\n",
       " 'activation3': 'relu',\n",
       " 'dropout3': 0.1,\n",
       " 'unit4': 8,\n",
       " 'activation4': 'relu',\n",
       " 'dropout4': 0.1}"
      ]
     },
     "execution_count": 21,
     "metadata": {},
     "output_type": "execute_result"
    }
   ],
   "source": [
    "tuner.get_best_hyperparameters()[0].values"
   ]
  },
  {
   "cell_type": "code",
   "execution_count": 22,
   "id": "b7a313f9",
   "metadata": {
    "execution": {
     "iopub.execute_input": "2025-05-31T16:51:08.017673Z",
     "iopub.status.busy": "2025-05-31T16:51:08.016835Z",
     "iopub.status.idle": "2025-05-31T16:51:08.083957Z",
     "shell.execute_reply": "2025-05-31T16:51:08.082916Z"
    },
    "papermill": {
     "duration": 0.076585,
     "end_time": "2025-05-31T16:51:08.085695",
     "exception": false,
     "start_time": "2025-05-31T16:51:08.009110",
     "status": "completed"
    },
    "tags": []
   },
   "outputs": [
    {
     "name": "stderr",
     "output_type": "stream",
     "text": [
      "/usr/local/lib/python3.11/dist-packages/keras/src/layers/core/dense.py:87: UserWarning: Do not pass an `input_shape`/`input_dim` argument to a layer. When using Sequential models, prefer using an `Input(shape)` object as the first layer in the model instead.\n",
      "  super().__init__(activity_regularizer=activity_regularizer, **kwargs)\n"
     ]
    }
   ],
   "source": [
    "# Creating the model \n",
    "model = Sequential()\n",
    "model.add(Dense(128,activation='relu',input_shape=(x_train.shape[1],)))\n",
    "model.add(Dropout(0.4))\n",
    "model.add(Dense(64,activation='relu'))\n",
    "model.add(Dropout(0.1))\n",
    "model.add(Dense(32,activation='relu'))\n",
    "model.add(Dropout(0.1))\n",
    "model.add(Dense(1,activation='linear'))"
   ]
  },
  {
   "cell_type": "code",
   "execution_count": 23,
   "id": "497e36ef",
   "metadata": {
    "execution": {
     "iopub.execute_input": "2025-05-31T16:51:08.111279Z",
     "iopub.status.busy": "2025-05-31T16:51:08.110965Z",
     "iopub.status.idle": "2025-05-31T16:51:08.129477Z",
     "shell.execute_reply": "2025-05-31T16:51:08.128630Z"
    },
    "papermill": {
     "duration": 0.032804,
     "end_time": "2025-05-31T16:51:08.130901",
     "exception": false,
     "start_time": "2025-05-31T16:51:08.098097",
     "status": "completed"
    },
    "tags": []
   },
   "outputs": [
    {
     "data": {
      "text/html": [
       "<pre style=\"white-space:pre;overflow-x:auto;line-height:normal;font-family:Menlo,'DejaVu Sans Mono',consolas,'Courier New',monospace\"><span style=\"font-weight: bold\">Model: \"sequential_1\"</span>\n",
       "</pre>\n"
      ],
      "text/plain": [
       "\u001b[1mModel: \"sequential_1\"\u001b[0m\n"
      ]
     },
     "metadata": {},
     "output_type": "display_data"
    },
    {
     "data": {
      "text/html": [
       "<pre style=\"white-space:pre;overflow-x:auto;line-height:normal;font-family:Menlo,'DejaVu Sans Mono',consolas,'Courier New',monospace\">┏━━━━━━━━━━━━━━━━━━━━━━━━━━━━━━━━━━━━━━┳━━━━━━━━━━━━━━━━━━━━━━━━━━━━━┳━━━━━━━━━━━━━━━━━┓\n",
       "┃<span style=\"font-weight: bold\"> Layer (type)                         </span>┃<span style=\"font-weight: bold\"> Output Shape                </span>┃<span style=\"font-weight: bold\">         Param # </span>┃\n",
       "┡━━━━━━━━━━━━━━━━━━━━━━━━━━━━━━━━━━━━━━╇━━━━━━━━━━━━━━━━━━━━━━━━━━━━━╇━━━━━━━━━━━━━━━━━┩\n",
       "│ dense_10 (<span style=\"color: #0087ff; text-decoration-color: #0087ff\">Dense</span>)                     │ (<span style=\"color: #00d7ff; text-decoration-color: #00d7ff\">None</span>, <span style=\"color: #00af00; text-decoration-color: #00af00\">128</span>)                 │           <span style=\"color: #00af00; text-decoration-color: #00af00\">1,280</span> │\n",
       "├──────────────────────────────────────┼─────────────────────────────┼─────────────────┤\n",
       "│ dropout_9 (<span style=\"color: #0087ff; text-decoration-color: #0087ff\">Dropout</span>)                  │ (<span style=\"color: #00d7ff; text-decoration-color: #00d7ff\">None</span>, <span style=\"color: #00af00; text-decoration-color: #00af00\">128</span>)                 │               <span style=\"color: #00af00; text-decoration-color: #00af00\">0</span> │\n",
       "├──────────────────────────────────────┼─────────────────────────────┼─────────────────┤\n",
       "│ dense_11 (<span style=\"color: #0087ff; text-decoration-color: #0087ff\">Dense</span>)                     │ (<span style=\"color: #00d7ff; text-decoration-color: #00d7ff\">None</span>, <span style=\"color: #00af00; text-decoration-color: #00af00\">64</span>)                  │           <span style=\"color: #00af00; text-decoration-color: #00af00\">8,256</span> │\n",
       "├──────────────────────────────────────┼─────────────────────────────┼─────────────────┤\n",
       "│ dropout_10 (<span style=\"color: #0087ff; text-decoration-color: #0087ff\">Dropout</span>)                 │ (<span style=\"color: #00d7ff; text-decoration-color: #00d7ff\">None</span>, <span style=\"color: #00af00; text-decoration-color: #00af00\">64</span>)                  │               <span style=\"color: #00af00; text-decoration-color: #00af00\">0</span> │\n",
       "├──────────────────────────────────────┼─────────────────────────────┼─────────────────┤\n",
       "│ dense_12 (<span style=\"color: #0087ff; text-decoration-color: #0087ff\">Dense</span>)                     │ (<span style=\"color: #00d7ff; text-decoration-color: #00d7ff\">None</span>, <span style=\"color: #00af00; text-decoration-color: #00af00\">32</span>)                  │           <span style=\"color: #00af00; text-decoration-color: #00af00\">2,080</span> │\n",
       "├──────────────────────────────────────┼─────────────────────────────┼─────────────────┤\n",
       "│ dropout_11 (<span style=\"color: #0087ff; text-decoration-color: #0087ff\">Dropout</span>)                 │ (<span style=\"color: #00d7ff; text-decoration-color: #00d7ff\">None</span>, <span style=\"color: #00af00; text-decoration-color: #00af00\">32</span>)                  │               <span style=\"color: #00af00; text-decoration-color: #00af00\">0</span> │\n",
       "├──────────────────────────────────────┼─────────────────────────────┼─────────────────┤\n",
       "│ dense_13 (<span style=\"color: #0087ff; text-decoration-color: #0087ff\">Dense</span>)                     │ (<span style=\"color: #00d7ff; text-decoration-color: #00d7ff\">None</span>, <span style=\"color: #00af00; text-decoration-color: #00af00\">1</span>)                   │              <span style=\"color: #00af00; text-decoration-color: #00af00\">33</span> │\n",
       "└──────────────────────────────────────┴─────────────────────────────┴─────────────────┘\n",
       "</pre>\n"
      ],
      "text/plain": [
       "┏━━━━━━━━━━━━━━━━━━━━━━━━━━━━━━━━━━━━━━┳━━━━━━━━━━━━━━━━━━━━━━━━━━━━━┳━━━━━━━━━━━━━━━━━┓\n",
       "┃\u001b[1m \u001b[0m\u001b[1mLayer (type)                        \u001b[0m\u001b[1m \u001b[0m┃\u001b[1m \u001b[0m\u001b[1mOutput Shape               \u001b[0m\u001b[1m \u001b[0m┃\u001b[1m \u001b[0m\u001b[1m        Param #\u001b[0m\u001b[1m \u001b[0m┃\n",
       "┡━━━━━━━━━━━━━━━━━━━━━━━━━━━━━━━━━━━━━━╇━━━━━━━━━━━━━━━━━━━━━━━━━━━━━╇━━━━━━━━━━━━━━━━━┩\n",
       "│ dense_10 (\u001b[38;5;33mDense\u001b[0m)                     │ (\u001b[38;5;45mNone\u001b[0m, \u001b[38;5;34m128\u001b[0m)                 │           \u001b[38;5;34m1,280\u001b[0m │\n",
       "├──────────────────────────────────────┼─────────────────────────────┼─────────────────┤\n",
       "│ dropout_9 (\u001b[38;5;33mDropout\u001b[0m)                  │ (\u001b[38;5;45mNone\u001b[0m, \u001b[38;5;34m128\u001b[0m)                 │               \u001b[38;5;34m0\u001b[0m │\n",
       "├──────────────────────────────────────┼─────────────────────────────┼─────────────────┤\n",
       "│ dense_11 (\u001b[38;5;33mDense\u001b[0m)                     │ (\u001b[38;5;45mNone\u001b[0m, \u001b[38;5;34m64\u001b[0m)                  │           \u001b[38;5;34m8,256\u001b[0m │\n",
       "├──────────────────────────────────────┼─────────────────────────────┼─────────────────┤\n",
       "│ dropout_10 (\u001b[38;5;33mDropout\u001b[0m)                 │ (\u001b[38;5;45mNone\u001b[0m, \u001b[38;5;34m64\u001b[0m)                  │               \u001b[38;5;34m0\u001b[0m │\n",
       "├──────────────────────────────────────┼─────────────────────────────┼─────────────────┤\n",
       "│ dense_12 (\u001b[38;5;33mDense\u001b[0m)                     │ (\u001b[38;5;45mNone\u001b[0m, \u001b[38;5;34m32\u001b[0m)                  │           \u001b[38;5;34m2,080\u001b[0m │\n",
       "├──────────────────────────────────────┼─────────────────────────────┼─────────────────┤\n",
       "│ dropout_11 (\u001b[38;5;33mDropout\u001b[0m)                 │ (\u001b[38;5;45mNone\u001b[0m, \u001b[38;5;34m32\u001b[0m)                  │               \u001b[38;5;34m0\u001b[0m │\n",
       "├──────────────────────────────────────┼─────────────────────────────┼─────────────────┤\n",
       "│ dense_13 (\u001b[38;5;33mDense\u001b[0m)                     │ (\u001b[38;5;45mNone\u001b[0m, \u001b[38;5;34m1\u001b[0m)                   │              \u001b[38;5;34m33\u001b[0m │\n",
       "└──────────────────────────────────────┴─────────────────────────────┴─────────────────┘\n"
      ]
     },
     "metadata": {},
     "output_type": "display_data"
    },
    {
     "data": {
      "text/html": [
       "<pre style=\"white-space:pre;overflow-x:auto;line-height:normal;font-family:Menlo,'DejaVu Sans Mono',consolas,'Courier New',monospace\"><span style=\"font-weight: bold\"> Total params: </span><span style=\"color: #00af00; text-decoration-color: #00af00\">11,649</span> (45.50 KB)\n",
       "</pre>\n"
      ],
      "text/plain": [
       "\u001b[1m Total params: \u001b[0m\u001b[38;5;34m11,649\u001b[0m (45.50 KB)\n"
      ]
     },
     "metadata": {},
     "output_type": "display_data"
    },
    {
     "data": {
      "text/html": [
       "<pre style=\"white-space:pre;overflow-x:auto;line-height:normal;font-family:Menlo,'DejaVu Sans Mono',consolas,'Courier New',monospace\"><span style=\"font-weight: bold\"> Trainable params: </span><span style=\"color: #00af00; text-decoration-color: #00af00\">11,649</span> (45.50 KB)\n",
       "</pre>\n"
      ],
      "text/plain": [
       "\u001b[1m Trainable params: \u001b[0m\u001b[38;5;34m11,649\u001b[0m (45.50 KB)\n"
      ]
     },
     "metadata": {},
     "output_type": "display_data"
    },
    {
     "data": {
      "text/html": [
       "<pre style=\"white-space:pre;overflow-x:auto;line-height:normal;font-family:Menlo,'DejaVu Sans Mono',consolas,'Courier New',monospace\"><span style=\"font-weight: bold\"> Non-trainable params: </span><span style=\"color: #00af00; text-decoration-color: #00af00\">0</span> (0.00 B)\n",
       "</pre>\n"
      ],
      "text/plain": [
       "\u001b[1m Non-trainable params: \u001b[0m\u001b[38;5;34m0\u001b[0m (0.00 B)\n"
      ]
     },
     "metadata": {},
     "output_type": "display_data"
    }
   ],
   "source": [
    "model.summary()"
   ]
  },
  {
   "cell_type": "code",
   "execution_count": 24,
   "id": "5aa6d2fb",
   "metadata": {
    "execution": {
     "iopub.execute_input": "2025-05-31T16:51:08.148103Z",
     "iopub.status.busy": "2025-05-31T16:51:08.147807Z",
     "iopub.status.idle": "2025-05-31T16:51:08.160201Z",
     "shell.execute_reply": "2025-05-31T16:51:08.159405Z"
    },
    "papermill": {
     "duration": 0.022408,
     "end_time": "2025-05-31T16:51:08.161740",
     "exception": false,
     "start_time": "2025-05-31T16:51:08.139332",
     "status": "completed"
    },
    "tags": []
   },
   "outputs": [],
   "source": [
    "model.compile(optimizer='Adam',loss='mse',metrics=['accuracy'])"
   ]
  },
  {
   "cell_type": "code",
   "execution_count": 25,
   "id": "10bf1ad9",
   "metadata": {
    "execution": {
     "iopub.execute_input": "2025-05-31T16:51:08.185557Z",
     "iopub.status.busy": "2025-05-31T16:51:08.184720Z",
     "iopub.status.idle": "2025-05-31T16:51:08.189614Z",
     "shell.execute_reply": "2025-05-31T16:51:08.188806Z"
    },
    "papermill": {
     "duration": 0.020558,
     "end_time": "2025-05-31T16:51:08.191498",
     "exception": false,
     "start_time": "2025-05-31T16:51:08.170940",
     "status": "completed"
    },
    "tags": []
   },
   "outputs": [],
   "source": [
    "## Set up the Tensorboard\n",
    "import tensorflow as tf\n",
    "from tensorflow.keras.callbacks import TensorBoard\n",
    "import datetime\n",
    "\n",
    "log_dir = \"logs/fit/\" + datetime.datetime.now().strftime(\"%Y%m%d-%H%M%S\")\n",
    "tensorboard_callback = tf.keras.callbacks.TensorBoard(log_dir=log_dir, histogram_freq=1)"
   ]
  },
  {
   "cell_type": "code",
   "execution_count": 26,
   "id": "b10a7cc7",
   "metadata": {
    "execution": {
     "iopub.execute_input": "2025-05-31T16:51:08.219152Z",
     "iopub.status.busy": "2025-05-31T16:51:08.218866Z",
     "iopub.status.idle": "2025-05-31T16:51:08.223023Z",
     "shell.execute_reply": "2025-05-31T16:51:08.222203Z"
    },
    "papermill": {
     "duration": 0.019378,
     "end_time": "2025-05-31T16:51:08.224458",
     "exception": false,
     "start_time": "2025-05-31T16:51:08.205080",
     "status": "completed"
    },
    "tags": []
   },
   "outputs": [],
   "source": [
    "early_stopping = EarlyStopping(monitor='val_loss',patience=4,restore_best_weights=True)"
   ]
  },
  {
   "cell_type": "code",
   "execution_count": 27,
   "id": "8c3802e0",
   "metadata": {
    "execution": {
     "iopub.execute_input": "2025-05-31T16:51:08.303986Z",
     "iopub.status.busy": "2025-05-31T16:51:08.303622Z",
     "iopub.status.idle": "2025-05-31T16:51:41.698476Z",
     "shell.execute_reply": "2025-05-31T16:51:41.697773Z"
    },
    "papermill": {
     "duration": 33.405301,
     "end_time": "2025-05-31T16:51:41.699936",
     "exception": false,
     "start_time": "2025-05-31T16:51:08.294635",
     "status": "completed"
    },
    "tags": []
   },
   "outputs": [
    {
     "name": "stdout",
     "output_type": "stream",
     "text": [
      "Epoch 1/200\n",
      "\u001b[1m34/34\u001b[0m \u001b[32m━━━━━━━━━━━━━━━━━━━━\u001b[0m\u001b[37m\u001b[0m \u001b[1m3s\u001b[0m 16ms/step - accuracy: 0.0000e+00 - loss: 305850624.0000 - val_accuracy: 0.0000e+00 - val_loss: 323228064.0000\n",
      "Epoch 2/200\n",
      "\u001b[1m34/34\u001b[0m \u001b[32m━━━━━━━━━━━━━━━━━━━━\u001b[0m\u001b[37m\u001b[0m \u001b[1m0s\u001b[0m 6ms/step - accuracy: 0.0000e+00 - loss: 336714528.0000 - val_accuracy: 0.0000e+00 - val_loss: 321876096.0000\n",
      "Epoch 3/200\n",
      "\u001b[1m34/34\u001b[0m \u001b[32m━━━━━━━━━━━━━━━━━━━━\u001b[0m\u001b[37m\u001b[0m \u001b[1m0s\u001b[0m 6ms/step - accuracy: 0.0000e+00 - loss: 329861216.0000 - val_accuracy: 0.0000e+00 - val_loss: 315718912.0000\n",
      "Epoch 4/200\n",
      "\u001b[1m34/34\u001b[0m \u001b[32m━━━━━━━━━━━━━━━━━━━━\u001b[0m\u001b[37m\u001b[0m \u001b[1m0s\u001b[0m 6ms/step - accuracy: 0.0000e+00 - loss: 300833280.0000 - val_accuracy: 0.0000e+00 - val_loss: 296831328.0000\n",
      "Epoch 5/200\n",
      "\u001b[1m34/34\u001b[0m \u001b[32m━━━━━━━━━━━━━━━━━━━━\u001b[0m\u001b[37m\u001b[0m \u001b[1m0s\u001b[0m 6ms/step - accuracy: 0.0000e+00 - loss: 272493088.0000 - val_accuracy: 0.0000e+00 - val_loss: 254534992.0000\n",
      "Epoch 6/200\n",
      "\u001b[1m34/34\u001b[0m \u001b[32m━━━━━━━━━━━━━━━━━━━━\u001b[0m\u001b[37m\u001b[0m \u001b[1m0s\u001b[0m 6ms/step - accuracy: 0.0000e+00 - loss: 249368416.0000 - val_accuracy: 0.0000e+00 - val_loss: 184814336.0000\n",
      "Epoch 7/200\n",
      "\u001b[1m34/34\u001b[0m \u001b[32m━━━━━━━━━━━━━━━━━━━━\u001b[0m\u001b[37m\u001b[0m \u001b[1m0s\u001b[0m 6ms/step - accuracy: 0.0000e+00 - loss: 166524368.0000 - val_accuracy: 0.0000e+00 - val_loss: 107680960.0000\n",
      "Epoch 8/200\n",
      "\u001b[1m34/34\u001b[0m \u001b[32m━━━━━━━━━━━━━━━━━━━━\u001b[0m\u001b[37m\u001b[0m \u001b[1m0s\u001b[0m 6ms/step - accuracy: 0.0000e+00 - loss: 97356864.0000 - val_accuracy: 0.0000e+00 - val_loss: 60913744.0000\n",
      "Epoch 9/200\n",
      "\u001b[1m34/34\u001b[0m \u001b[32m━━━━━━━━━━━━━━━━━━━━\u001b[0m\u001b[37m\u001b[0m \u001b[1m0s\u001b[0m 6ms/step - accuracy: 0.0000e+00 - loss: 65186268.0000 - val_accuracy: 0.0000e+00 - val_loss: 47782396.0000\n",
      "Epoch 10/200\n",
      "\u001b[1m34/34\u001b[0m \u001b[32m━━━━━━━━━━━━━━━━━━━━\u001b[0m\u001b[37m\u001b[0m \u001b[1m0s\u001b[0m 6ms/step - accuracy: 0.0000e+00 - loss: 51870192.0000 - val_accuracy: 0.0000e+00 - val_loss: 41836124.0000\n",
      "Epoch 11/200\n",
      "\u001b[1m34/34\u001b[0m \u001b[32m━━━━━━━━━━━━━━━━━━━━\u001b[0m\u001b[37m\u001b[0m \u001b[1m0s\u001b[0m 7ms/step - accuracy: 0.0000e+00 - loss: 43654820.0000 - val_accuracy: 0.0000e+00 - val_loss: 38152888.0000\n",
      "Epoch 12/200\n",
      "\u001b[1m34/34\u001b[0m \u001b[32m━━━━━━━━━━━━━━━━━━━━\u001b[0m\u001b[37m\u001b[0m \u001b[1m0s\u001b[0m 6ms/step - accuracy: 0.0000e+00 - loss: 43795204.0000 - val_accuracy: 0.0000e+00 - val_loss: 35560000.0000\n",
      "Epoch 13/200\n",
      "\u001b[1m34/34\u001b[0m \u001b[32m━━━━━━━━━━━━━━━━━━━━\u001b[0m\u001b[37m\u001b[0m \u001b[1m0s\u001b[0m 6ms/step - accuracy: 0.0000e+00 - loss: 40259492.0000 - val_accuracy: 0.0000e+00 - val_loss: 33992704.0000\n",
      "Epoch 14/200\n",
      "\u001b[1m34/34\u001b[0m \u001b[32m━━━━━━━━━━━━━━━━━━━━\u001b[0m\u001b[37m\u001b[0m \u001b[1m0s\u001b[0m 6ms/step - accuracy: 0.0000e+00 - loss: 41397352.0000 - val_accuracy: 0.0000e+00 - val_loss: 32855628.0000\n",
      "Epoch 15/200\n",
      "\u001b[1m34/34\u001b[0m \u001b[32m━━━━━━━━━━━━━━━━━━━━\u001b[0m\u001b[37m\u001b[0m \u001b[1m0s\u001b[0m 6ms/step - accuracy: 0.0000e+00 - loss: 38311600.0000 - val_accuracy: 0.0000e+00 - val_loss: 32074232.0000\n",
      "Epoch 16/200\n",
      "\u001b[1m34/34\u001b[0m \u001b[32m━━━━━━━━━━━━━━━━━━━━\u001b[0m\u001b[37m\u001b[0m \u001b[1m0s\u001b[0m 6ms/step - accuracy: 0.0000e+00 - loss: 40077628.0000 - val_accuracy: 0.0000e+00 - val_loss: 31455744.0000\n",
      "Epoch 17/200\n",
      "\u001b[1m34/34\u001b[0m \u001b[32m━━━━━━━━━━━━━━━━━━━━\u001b[0m\u001b[37m\u001b[0m \u001b[1m0s\u001b[0m 6ms/step - accuracy: 0.0000e+00 - loss: 34800716.0000 - val_accuracy: 0.0000e+00 - val_loss: 31154994.0000\n",
      "Epoch 18/200\n",
      "\u001b[1m34/34\u001b[0m \u001b[32m━━━━━━━━━━━━━━━━━━━━\u001b[0m\u001b[37m\u001b[0m \u001b[1m0s\u001b[0m 6ms/step - accuracy: 0.0000e+00 - loss: 38759176.0000 - val_accuracy: 0.0000e+00 - val_loss: 30752180.0000\n",
      "Epoch 19/200\n",
      "\u001b[1m34/34\u001b[0m \u001b[32m━━━━━━━━━━━━━━━━━━━━\u001b[0m\u001b[37m\u001b[0m \u001b[1m0s\u001b[0m 6ms/step - accuracy: 0.0000e+00 - loss: 41129944.0000 - val_accuracy: 0.0000e+00 - val_loss: 30563130.0000\n",
      "Epoch 20/200\n",
      "\u001b[1m34/34\u001b[0m \u001b[32m━━━━━━━━━━━━━━━━━━━━\u001b[0m\u001b[37m\u001b[0m \u001b[1m0s\u001b[0m 6ms/step - accuracy: 0.0000e+00 - loss: 38425860.0000 - val_accuracy: 0.0000e+00 - val_loss: 30406420.0000\n",
      "Epoch 21/200\n",
      "\u001b[1m34/34\u001b[0m \u001b[32m━━━━━━━━━━━━━━━━━━━━\u001b[0m\u001b[37m\u001b[0m \u001b[1m0s\u001b[0m 6ms/step - accuracy: 0.0000e+00 - loss: 36863656.0000 - val_accuracy: 0.0000e+00 - val_loss: 30088924.0000\n",
      "Epoch 22/200\n",
      "\u001b[1m34/34\u001b[0m \u001b[32m━━━━━━━━━━━━━━━━━━━━\u001b[0m\u001b[37m\u001b[0m \u001b[1m0s\u001b[0m 7ms/step - accuracy: 0.0000e+00 - loss: 37090404.0000 - val_accuracy: 0.0000e+00 - val_loss: 29996216.0000\n",
      "Epoch 23/200\n",
      "\u001b[1m34/34\u001b[0m \u001b[32m━━━━━━━━━━━━━━━━━━━━\u001b[0m\u001b[37m\u001b[0m \u001b[1m0s\u001b[0m 6ms/step - accuracy: 0.0000e+00 - loss: 42487040.0000 - val_accuracy: 0.0000e+00 - val_loss: 29882000.0000\n",
      "Epoch 24/200\n",
      "\u001b[1m34/34\u001b[0m \u001b[32m━━━━━━━━━━━━━━━━━━━━\u001b[0m\u001b[37m\u001b[0m \u001b[1m0s\u001b[0m 6ms/step - accuracy: 0.0000e+00 - loss: 38333168.0000 - val_accuracy: 0.0000e+00 - val_loss: 29828388.0000\n",
      "Epoch 25/200\n",
      "\u001b[1m34/34\u001b[0m \u001b[32m━━━━━━━━━━━━━━━━━━━━\u001b[0m\u001b[37m\u001b[0m \u001b[1m0s\u001b[0m 6ms/step - accuracy: 0.0000e+00 - loss: 36467608.0000 - val_accuracy: 0.0000e+00 - val_loss: 29821400.0000\n",
      "Epoch 26/200\n",
      "\u001b[1m34/34\u001b[0m \u001b[32m━━━━━━━━━━━━━━━━━━━━\u001b[0m\u001b[37m\u001b[0m \u001b[1m0s\u001b[0m 6ms/step - accuracy: 0.0000e+00 - loss: 32292344.0000 - val_accuracy: 0.0000e+00 - val_loss: 29539252.0000\n",
      "Epoch 27/200\n",
      "\u001b[1m34/34\u001b[0m \u001b[32m━━━━━━━━━━━━━━━━━━━━\u001b[0m\u001b[37m\u001b[0m \u001b[1m0s\u001b[0m 6ms/step - accuracy: 0.0000e+00 - loss: 40514112.0000 - val_accuracy: 0.0000e+00 - val_loss: 29385884.0000\n",
      "Epoch 28/200\n",
      "\u001b[1m34/34\u001b[0m \u001b[32m━━━━━━━━━━━━━━━━━━━━\u001b[0m\u001b[37m\u001b[0m \u001b[1m0s\u001b[0m 6ms/step - accuracy: 0.0000e+00 - loss: 40317696.0000 - val_accuracy: 0.0000e+00 - val_loss: 29404430.0000\n",
      "Epoch 29/200\n",
      "\u001b[1m34/34\u001b[0m \u001b[32m━━━━━━━━━━━━━━━━━━━━\u001b[0m\u001b[37m\u001b[0m \u001b[1m0s\u001b[0m 6ms/step - accuracy: 0.0000e+00 - loss: 37437196.0000 - val_accuracy: 0.0000e+00 - val_loss: 29331636.0000\n",
      "Epoch 30/200\n",
      "\u001b[1m34/34\u001b[0m \u001b[32m━━━━━━━━━━━━━━━━━━━━\u001b[0m\u001b[37m\u001b[0m \u001b[1m0s\u001b[0m 6ms/step - accuracy: 0.0000e+00 - loss: 38756696.0000 - val_accuracy: 0.0000e+00 - val_loss: 29298222.0000\n",
      "Epoch 31/200\n",
      "\u001b[1m34/34\u001b[0m \u001b[32m━━━━━━━━━━━━━━━━━━━━\u001b[0m\u001b[37m\u001b[0m \u001b[1m0s\u001b[0m 6ms/step - accuracy: 0.0000e+00 - loss: 36295232.0000 - val_accuracy: 0.0000e+00 - val_loss: 29317068.0000\n",
      "Epoch 32/200\n",
      "\u001b[1m34/34\u001b[0m \u001b[32m━━━━━━━━━━━━━━━━━━━━\u001b[0m\u001b[37m\u001b[0m \u001b[1m0s\u001b[0m 7ms/step - accuracy: 0.0000e+00 - loss: 34280880.0000 - val_accuracy: 0.0000e+00 - val_loss: 29216140.0000\n",
      "Epoch 33/200\n",
      "\u001b[1m34/34\u001b[0m \u001b[32m━━━━━━━━━━━━━━━━━━━━\u001b[0m\u001b[37m\u001b[0m \u001b[1m0s\u001b[0m 7ms/step - accuracy: 0.0000e+00 - loss: 38827740.0000 - val_accuracy: 0.0000e+00 - val_loss: 29072448.0000\n",
      "Epoch 34/200\n",
      "\u001b[1m34/34\u001b[0m \u001b[32m━━━━━━━━━━━━━━━━━━━━\u001b[0m\u001b[37m\u001b[0m \u001b[1m0s\u001b[0m 6ms/step - accuracy: 0.0000e+00 - loss: 41990760.0000 - val_accuracy: 0.0000e+00 - val_loss: 28998248.0000\n",
      "Epoch 35/200\n",
      "\u001b[1m34/34\u001b[0m \u001b[32m━━━━━━━━━━━━━━━━━━━━\u001b[0m\u001b[37m\u001b[0m \u001b[1m0s\u001b[0m 6ms/step - accuracy: 0.0000e+00 - loss: 34102040.0000 - val_accuracy: 0.0000e+00 - val_loss: 28951526.0000\n",
      "Epoch 36/200\n",
      "\u001b[1m34/34\u001b[0m \u001b[32m━━━━━━━━━━━━━━━━━━━━\u001b[0m\u001b[37m\u001b[0m \u001b[1m0s\u001b[0m 7ms/step - accuracy: 0.0000e+00 - loss: 34577388.0000 - val_accuracy: 0.0000e+00 - val_loss: 28946364.0000\n",
      "Epoch 37/200\n",
      "\u001b[1m34/34\u001b[0m \u001b[32m━━━━━━━━━━━━━━━━━━━━\u001b[0m\u001b[37m\u001b[0m \u001b[1m0s\u001b[0m 6ms/step - accuracy: 0.0000e+00 - loss: 40876688.0000 - val_accuracy: 0.0000e+00 - val_loss: 28909854.0000\n",
      "Epoch 38/200\n",
      "\u001b[1m34/34\u001b[0m \u001b[32m━━━━━━━━━━━━━━━━━━━━\u001b[0m\u001b[37m\u001b[0m \u001b[1m0s\u001b[0m 6ms/step - accuracy: 0.0000e+00 - loss: 35355628.0000 - val_accuracy: 0.0000e+00 - val_loss: 28814418.0000\n",
      "Epoch 39/200\n",
      "\u001b[1m34/34\u001b[0m \u001b[32m━━━━━━━━━━━━━━━━━━━━\u001b[0m\u001b[37m\u001b[0m \u001b[1m0s\u001b[0m 7ms/step - accuracy: 0.0000e+00 - loss: 35872288.0000 - val_accuracy: 0.0000e+00 - val_loss: 28856748.0000\n",
      "Epoch 40/200\n",
      "\u001b[1m34/34\u001b[0m \u001b[32m━━━━━━━━━━━━━━━━━━━━\u001b[0m\u001b[37m\u001b[0m \u001b[1m0s\u001b[0m 7ms/step - accuracy: 0.0000e+00 - loss: 37764976.0000 - val_accuracy: 0.0000e+00 - val_loss: 28561950.0000\n",
      "Epoch 41/200\n",
      "\u001b[1m34/34\u001b[0m \u001b[32m━━━━━━━━━━━━━━━━━━━━\u001b[0m\u001b[37m\u001b[0m \u001b[1m0s\u001b[0m 6ms/step - accuracy: 0.0000e+00 - loss: 40886912.0000 - val_accuracy: 0.0000e+00 - val_loss: 28492376.0000\n",
      "Epoch 42/200\n",
      "\u001b[1m34/34\u001b[0m \u001b[32m━━━━━━━━━━━━━━━━━━━━\u001b[0m\u001b[37m\u001b[0m \u001b[1m0s\u001b[0m 6ms/step - accuracy: 0.0000e+00 - loss: 34292508.0000 - val_accuracy: 0.0000e+00 - val_loss: 28517170.0000\n",
      "Epoch 43/200\n",
      "\u001b[1m34/34\u001b[0m \u001b[32m━━━━━━━━━━━━━━━━━━━━\u001b[0m\u001b[37m\u001b[0m \u001b[1m0s\u001b[0m 6ms/step - accuracy: 0.0000e+00 - loss: 33120942.0000 - val_accuracy: 0.0000e+00 - val_loss: 28391720.0000\n",
      "Epoch 44/200\n",
      "\u001b[1m34/34\u001b[0m \u001b[32m━━━━━━━━━━━━━━━━━━━━\u001b[0m\u001b[37m\u001b[0m \u001b[1m0s\u001b[0m 6ms/step - accuracy: 0.0000e+00 - loss: 34629856.0000 - val_accuracy: 0.0000e+00 - val_loss: 28380532.0000\n",
      "Epoch 45/200\n",
      "\u001b[1m34/34\u001b[0m \u001b[32m━━━━━━━━━━━━━━━━━━━━\u001b[0m\u001b[37m\u001b[0m \u001b[1m0s\u001b[0m 6ms/step - accuracy: 0.0000e+00 - loss: 35772660.0000 - val_accuracy: 0.0000e+00 - val_loss: 28266936.0000\n",
      "Epoch 46/200\n",
      "\u001b[1m34/34\u001b[0m \u001b[32m━━━━━━━━━━━━━━━━━━━━\u001b[0m\u001b[37m\u001b[0m \u001b[1m0s\u001b[0m 7ms/step - accuracy: 0.0000e+00 - loss: 33467476.0000 - val_accuracy: 0.0000e+00 - val_loss: 28145818.0000\n",
      "Epoch 47/200\n",
      "\u001b[1m34/34\u001b[0m \u001b[32m━━━━━━━━━━━━━━━━━━━━\u001b[0m\u001b[37m\u001b[0m \u001b[1m0s\u001b[0m 6ms/step - accuracy: 0.0000e+00 - loss: 29842820.0000 - val_accuracy: 0.0000e+00 - val_loss: 28143580.0000\n",
      "Epoch 48/200\n",
      "\u001b[1m34/34\u001b[0m \u001b[32m━━━━━━━━━━━━━━━━━━━━\u001b[0m\u001b[37m\u001b[0m \u001b[1m0s\u001b[0m 6ms/step - accuracy: 0.0000e+00 - loss: 34769536.0000 - val_accuracy: 0.0000e+00 - val_loss: 28023316.0000\n",
      "Epoch 49/200\n",
      "\u001b[1m34/34\u001b[0m \u001b[32m━━━━━━━━━━━━━━━━━━━━\u001b[0m\u001b[37m\u001b[0m \u001b[1m0s\u001b[0m 6ms/step - accuracy: 0.0000e+00 - loss: 32748558.0000 - val_accuracy: 0.0000e+00 - val_loss: 27888790.0000\n",
      "Epoch 50/200\n",
      "\u001b[1m34/34\u001b[0m \u001b[32m━━━━━━━━━━━━━━━━━━━━\u001b[0m\u001b[37m\u001b[0m \u001b[1m0s\u001b[0m 6ms/step - accuracy: 0.0000e+00 - loss: 34175460.0000 - val_accuracy: 0.0000e+00 - val_loss: 27792802.0000\n",
      "Epoch 51/200\n",
      "\u001b[1m34/34\u001b[0m \u001b[32m━━━━━━━━━━━━━━━━━━━━\u001b[0m\u001b[37m\u001b[0m \u001b[1m0s\u001b[0m 7ms/step - accuracy: 0.0000e+00 - loss: 33574860.0000 - val_accuracy: 0.0000e+00 - val_loss: 27779280.0000\n",
      "Epoch 52/200\n",
      "\u001b[1m34/34\u001b[0m \u001b[32m━━━━━━━━━━━━━━━━━━━━\u001b[0m\u001b[37m\u001b[0m \u001b[1m0s\u001b[0m 6ms/step - accuracy: 0.0000e+00 - loss: 37040420.0000 - val_accuracy: 0.0000e+00 - val_loss: 27778596.0000\n",
      "Epoch 53/200\n",
      "\u001b[1m34/34\u001b[0m \u001b[32m━━━━━━━━━━━━━━━━━━━━\u001b[0m\u001b[37m\u001b[0m \u001b[1m0s\u001b[0m 6ms/step - accuracy: 0.0000e+00 - loss: 30332356.0000 - val_accuracy: 0.0000e+00 - val_loss: 27802474.0000\n",
      "Epoch 54/200\n",
      "\u001b[1m34/34\u001b[0m \u001b[32m━━━━━━━━━━━━━━━━━━━━\u001b[0m\u001b[37m\u001b[0m \u001b[1m0s\u001b[0m 6ms/step - accuracy: 0.0000e+00 - loss: 33081960.0000 - val_accuracy: 0.0000e+00 - val_loss: 27636288.0000\n",
      "Epoch 55/200\n",
      "\u001b[1m34/34\u001b[0m \u001b[32m━━━━━━━━━━━━━━━━━━━━\u001b[0m\u001b[37m\u001b[0m \u001b[1m0s\u001b[0m 6ms/step - accuracy: 0.0000e+00 - loss: 37304728.0000 - val_accuracy: 0.0000e+00 - val_loss: 27392214.0000\n",
      "Epoch 56/200\n",
      "\u001b[1m34/34\u001b[0m \u001b[32m━━━━━━━━━━━━━━━━━━━━\u001b[0m\u001b[37m\u001b[0m \u001b[1m0s\u001b[0m 6ms/step - accuracy: 0.0000e+00 - loss: 33998016.0000 - val_accuracy: 0.0000e+00 - val_loss: 27447846.0000\n",
      "Epoch 57/200\n",
      "\u001b[1m34/34\u001b[0m \u001b[32m━━━━━━━━━━━━━━━━━━━━\u001b[0m\u001b[37m\u001b[0m \u001b[1m0s\u001b[0m 6ms/step - accuracy: 0.0000e+00 - loss: 31680262.0000 - val_accuracy: 0.0000e+00 - val_loss: 27301612.0000\n",
      "Epoch 58/200\n",
      "\u001b[1m34/34\u001b[0m \u001b[32m━━━━━━━━━━━━━━━━━━━━\u001b[0m\u001b[37m\u001b[0m \u001b[1m0s\u001b[0m 6ms/step - accuracy: 0.0000e+00 - loss: 31663392.0000 - val_accuracy: 0.0000e+00 - val_loss: 27233140.0000\n",
      "Epoch 59/200\n",
      "\u001b[1m34/34\u001b[0m \u001b[32m━━━━━━━━━━━━━━━━━━━━\u001b[0m\u001b[37m\u001b[0m \u001b[1m0s\u001b[0m 6ms/step - accuracy: 0.0000e+00 - loss: 34666128.0000 - val_accuracy: 0.0000e+00 - val_loss: 27153514.0000\n",
      "Epoch 60/200\n",
      "\u001b[1m34/34\u001b[0m \u001b[32m━━━━━━━━━━━━━━━━━━━━\u001b[0m\u001b[37m\u001b[0m \u001b[1m0s\u001b[0m 6ms/step - accuracy: 0.0000e+00 - loss: 36670976.0000 - val_accuracy: 0.0000e+00 - val_loss: 27072106.0000\n",
      "Epoch 61/200\n",
      "\u001b[1m34/34\u001b[0m \u001b[32m━━━━━━━━━━━━━━━━━━━━\u001b[0m\u001b[37m\u001b[0m \u001b[1m0s\u001b[0m 7ms/step - accuracy: 0.0000e+00 - loss: 32330322.0000 - val_accuracy: 0.0000e+00 - val_loss: 26927542.0000\n",
      "Epoch 62/200\n",
      "\u001b[1m34/34\u001b[0m \u001b[32m━━━━━━━━━━━━━━━━━━━━\u001b[0m\u001b[37m\u001b[0m \u001b[1m0s\u001b[0m 7ms/step - accuracy: 0.0000e+00 - loss: 36806708.0000 - val_accuracy: 0.0000e+00 - val_loss: 26894088.0000\n",
      "Epoch 63/200\n",
      "\u001b[1m34/34\u001b[0m \u001b[32m━━━━━━━━━━━━━━━━━━━━\u001b[0m\u001b[37m\u001b[0m \u001b[1m0s\u001b[0m 7ms/step - accuracy: 0.0000e+00 - loss: 31403508.0000 - val_accuracy: 0.0000e+00 - val_loss: 26854724.0000\n",
      "Epoch 64/200\n",
      "\u001b[1m34/34\u001b[0m \u001b[32m━━━━━━━━━━━━━━━━━━━━\u001b[0m\u001b[37m\u001b[0m \u001b[1m0s\u001b[0m 6ms/step - accuracy: 0.0000e+00 - loss: 33951300.0000 - val_accuracy: 0.0000e+00 - val_loss: 26846494.0000\n",
      "Epoch 65/200\n",
      "\u001b[1m34/34\u001b[0m \u001b[32m━━━━━━━━━━━━━━━━━━━━\u001b[0m\u001b[37m\u001b[0m \u001b[1m0s\u001b[0m 7ms/step - accuracy: 0.0000e+00 - loss: 31199776.0000 - val_accuracy: 0.0000e+00 - val_loss: 26783872.0000\n",
      "Epoch 66/200\n",
      "\u001b[1m34/34\u001b[0m \u001b[32m━━━━━━━━━━━━━━━━━━━━\u001b[0m\u001b[37m\u001b[0m \u001b[1m0s\u001b[0m 6ms/step - accuracy: 0.0000e+00 - loss: 32689812.0000 - val_accuracy: 0.0000e+00 - val_loss: 26516998.0000\n",
      "Epoch 67/200\n",
      "\u001b[1m34/34\u001b[0m \u001b[32m━━━━━━━━━━━━━━━━━━━━\u001b[0m\u001b[37m\u001b[0m \u001b[1m0s\u001b[0m 6ms/step - accuracy: 0.0000e+00 - loss: 32137678.0000 - val_accuracy: 0.0000e+00 - val_loss: 26590528.0000\n",
      "Epoch 68/200\n",
      "\u001b[1m34/34\u001b[0m \u001b[32m━━━━━━━━━━━━━━━━━━━━\u001b[0m\u001b[37m\u001b[0m \u001b[1m0s\u001b[0m 6ms/step - accuracy: 0.0000e+00 - loss: 35020388.0000 - val_accuracy: 0.0000e+00 - val_loss: 26514926.0000\n",
      "Epoch 69/200\n",
      "\u001b[1m34/34\u001b[0m \u001b[32m━━━━━━━━━━━━━━━━━━━━\u001b[0m\u001b[37m\u001b[0m \u001b[1m0s\u001b[0m 6ms/step - accuracy: 0.0000e+00 - loss: 30766916.0000 - val_accuracy: 0.0000e+00 - val_loss: 26337134.0000\n",
      "Epoch 70/200\n",
      "\u001b[1m34/34\u001b[0m \u001b[32m━━━━━━━━━━━━━━━━━━━━\u001b[0m\u001b[37m\u001b[0m \u001b[1m0s\u001b[0m 6ms/step - accuracy: 0.0000e+00 - loss: 32658152.0000 - val_accuracy: 0.0000e+00 - val_loss: 26197206.0000\n",
      "Epoch 71/200\n",
      "\u001b[1m34/34\u001b[0m \u001b[32m━━━━━━━━━━━━━━━━━━━━\u001b[0m\u001b[37m\u001b[0m \u001b[1m0s\u001b[0m 6ms/step - accuracy: 0.0000e+00 - loss: 30870278.0000 - val_accuracy: 0.0000e+00 - val_loss: 26071230.0000\n",
      "Epoch 72/200\n",
      "\u001b[1m34/34\u001b[0m \u001b[32m━━━━━━━━━━━━━━━━━━━━\u001b[0m\u001b[37m\u001b[0m \u001b[1m0s\u001b[0m 6ms/step - accuracy: 0.0000e+00 - loss: 25792746.0000 - val_accuracy: 0.0000e+00 - val_loss: 26050044.0000\n",
      "Epoch 73/200\n",
      "\u001b[1m34/34\u001b[0m \u001b[32m━━━━━━━━━━━━━━━━━━━━\u001b[0m\u001b[37m\u001b[0m \u001b[1m0s\u001b[0m 6ms/step - accuracy: 0.0000e+00 - loss: 34833756.0000 - val_accuracy: 0.0000e+00 - val_loss: 25792368.0000\n",
      "Epoch 74/200\n",
      "\u001b[1m34/34\u001b[0m \u001b[32m━━━━━━━━━━━━━━━━━━━━\u001b[0m\u001b[37m\u001b[0m \u001b[1m0s\u001b[0m 7ms/step - accuracy: 0.0000e+00 - loss: 32681548.0000 - val_accuracy: 0.0000e+00 - val_loss: 25782504.0000\n",
      "Epoch 75/200\n",
      "\u001b[1m34/34\u001b[0m \u001b[32m━━━━━━━━━━━━━━━━━━━━\u001b[0m\u001b[37m\u001b[0m \u001b[1m0s\u001b[0m 6ms/step - accuracy: 0.0000e+00 - loss: 33851048.0000 - val_accuracy: 0.0000e+00 - val_loss: 25551556.0000\n",
      "Epoch 76/200\n",
      "\u001b[1m34/34\u001b[0m \u001b[32m━━━━━━━━━━━━━━━━━━━━\u001b[0m\u001b[37m\u001b[0m \u001b[1m0s\u001b[0m 6ms/step - accuracy: 0.0000e+00 - loss: 32118938.0000 - val_accuracy: 0.0000e+00 - val_loss: 25613348.0000\n",
      "Epoch 77/200\n",
      "\u001b[1m34/34\u001b[0m \u001b[32m━━━━━━━━━━━━━━━━━━━━\u001b[0m\u001b[37m\u001b[0m \u001b[1m0s\u001b[0m 6ms/step - accuracy: 0.0000e+00 - loss: 33441908.0000 - val_accuracy: 0.0000e+00 - val_loss: 25441184.0000\n",
      "Epoch 78/200\n",
      "\u001b[1m34/34\u001b[0m \u001b[32m━━━━━━━━━━━━━━━━━━━━\u001b[0m\u001b[37m\u001b[0m \u001b[1m0s\u001b[0m 7ms/step - accuracy: 0.0000e+00 - loss: 33497342.0000 - val_accuracy: 0.0000e+00 - val_loss: 25422394.0000\n",
      "Epoch 79/200\n",
      "\u001b[1m34/34\u001b[0m \u001b[32m━━━━━━━━━━━━━━━━━━━━\u001b[0m\u001b[37m\u001b[0m \u001b[1m0s\u001b[0m 6ms/step - accuracy: 0.0000e+00 - loss: 34584780.0000 - val_accuracy: 0.0000e+00 - val_loss: 25297634.0000\n",
      "Epoch 80/200\n",
      "\u001b[1m34/34\u001b[0m \u001b[32m━━━━━━━━━━━━━━━━━━━━\u001b[0m\u001b[37m\u001b[0m \u001b[1m0s\u001b[0m 6ms/step - accuracy: 0.0000e+00 - loss: 31129944.0000 - val_accuracy: 0.0000e+00 - val_loss: 25238378.0000\n",
      "Epoch 81/200\n",
      "\u001b[1m34/34\u001b[0m \u001b[32m━━━━━━━━━━━━━━━━━━━━\u001b[0m\u001b[37m\u001b[0m \u001b[1m0s\u001b[0m 6ms/step - accuracy: 0.0000e+00 - loss: 33766384.0000 - val_accuracy: 0.0000e+00 - val_loss: 25230310.0000\n",
      "Epoch 82/200\n",
      "\u001b[1m34/34\u001b[0m \u001b[32m━━━━━━━━━━━━━━━━━━━━\u001b[0m\u001b[37m\u001b[0m \u001b[1m0s\u001b[0m 7ms/step - accuracy: 0.0000e+00 - loss: 36533484.0000 - val_accuracy: 0.0000e+00 - val_loss: 24922902.0000\n",
      "Epoch 83/200\n",
      "\u001b[1m34/34\u001b[0m \u001b[32m━━━━━━━━━━━━━━━━━━━━\u001b[0m\u001b[37m\u001b[0m \u001b[1m0s\u001b[0m 6ms/step - accuracy: 0.0000e+00 - loss: 29585162.0000 - val_accuracy: 0.0000e+00 - val_loss: 24968332.0000\n",
      "Epoch 84/200\n",
      "\u001b[1m34/34\u001b[0m \u001b[32m━━━━━━━━━━━━━━━━━━━━\u001b[0m\u001b[37m\u001b[0m \u001b[1m0s\u001b[0m 7ms/step - accuracy: 0.0000e+00 - loss: 30106590.0000 - val_accuracy: 0.0000e+00 - val_loss: 24839738.0000\n",
      "Epoch 85/200\n",
      "\u001b[1m34/34\u001b[0m \u001b[32m━━━━━━━━━━━━━━━━━━━━\u001b[0m\u001b[37m\u001b[0m \u001b[1m0s\u001b[0m 7ms/step - accuracy: 0.0000e+00 - loss: 33069874.0000 - val_accuracy: 0.0000e+00 - val_loss: 24740786.0000\n",
      "Epoch 86/200\n",
      "\u001b[1m34/34\u001b[0m \u001b[32m━━━━━━━━━━━━━━━━━━━━\u001b[0m\u001b[37m\u001b[0m \u001b[1m0s\u001b[0m 6ms/step - accuracy: 0.0000e+00 - loss: 29341068.0000 - val_accuracy: 0.0000e+00 - val_loss: 24708000.0000\n",
      "Epoch 87/200\n",
      "\u001b[1m34/34\u001b[0m \u001b[32m━━━━━━━━━━━━━━━━━━━━\u001b[0m\u001b[37m\u001b[0m \u001b[1m0s\u001b[0m 6ms/step - accuracy: 0.0000e+00 - loss: 30379808.0000 - val_accuracy: 0.0000e+00 - val_loss: 24694052.0000\n",
      "Epoch 88/200\n",
      "\u001b[1m34/34\u001b[0m \u001b[32m━━━━━━━━━━━━━━━━━━━━\u001b[0m\u001b[37m\u001b[0m \u001b[1m0s\u001b[0m 6ms/step - accuracy: 0.0000e+00 - loss: 28680500.0000 - val_accuracy: 0.0000e+00 - val_loss: 24558592.0000\n",
      "Epoch 89/200\n",
      "\u001b[1m34/34\u001b[0m \u001b[32m━━━━━━━━━━━━━━━━━━━━\u001b[0m\u001b[37m\u001b[0m \u001b[1m0s\u001b[0m 7ms/step - accuracy: 0.0000e+00 - loss: 31474258.0000 - val_accuracy: 0.0000e+00 - val_loss: 24659010.0000\n",
      "Epoch 90/200\n",
      "\u001b[1m34/34\u001b[0m \u001b[32m━━━━━━━━━━━━━━━━━━━━\u001b[0m\u001b[37m\u001b[0m \u001b[1m0s\u001b[0m 7ms/step - accuracy: 0.0000e+00 - loss: 32321748.0000 - val_accuracy: 0.0000e+00 - val_loss: 24559384.0000\n",
      "Epoch 91/200\n",
      "\u001b[1m34/34\u001b[0m \u001b[32m━━━━━━━━━━━━━━━━━━━━\u001b[0m\u001b[37m\u001b[0m \u001b[1m0s\u001b[0m 6ms/step - accuracy: 0.0000e+00 - loss: 31092864.0000 - val_accuracy: 0.0000e+00 - val_loss: 24420866.0000\n",
      "Epoch 92/200\n",
      "\u001b[1m34/34\u001b[0m \u001b[32m━━━━━━━━━━━━━━━━━━━━\u001b[0m\u001b[37m\u001b[0m \u001b[1m0s\u001b[0m 6ms/step - accuracy: 0.0000e+00 - loss: 28052440.0000 - val_accuracy: 0.0000e+00 - val_loss: 24334024.0000\n",
      "Epoch 93/200\n",
      "\u001b[1m34/34\u001b[0m \u001b[32m━━━━━━━━━━━━━━━━━━━━\u001b[0m\u001b[37m\u001b[0m \u001b[1m0s\u001b[0m 6ms/step - accuracy: 0.0000e+00 - loss: 31773958.0000 - val_accuracy: 0.0000e+00 - val_loss: 24292362.0000\n",
      "Epoch 94/200\n",
      "\u001b[1m34/34\u001b[0m \u001b[32m━━━━━━━━━━━━━━━━━━━━\u001b[0m\u001b[37m\u001b[0m \u001b[1m0s\u001b[0m 6ms/step - accuracy: 0.0000e+00 - loss: 29910852.0000 - val_accuracy: 0.0000e+00 - val_loss: 24227400.0000\n",
      "Epoch 95/200\n",
      "\u001b[1m34/34\u001b[0m \u001b[32m━━━━━━━━━━━━━━━━━━━━\u001b[0m\u001b[37m\u001b[0m \u001b[1m0s\u001b[0m 6ms/step - accuracy: 0.0000e+00 - loss: 30653280.0000 - val_accuracy: 0.0000e+00 - val_loss: 24214144.0000\n",
      "Epoch 96/200\n",
      "\u001b[1m34/34\u001b[0m \u001b[32m━━━━━━━━━━━━━━━━━━━━\u001b[0m\u001b[37m\u001b[0m \u001b[1m0s\u001b[0m 6ms/step - accuracy: 0.0000e+00 - loss: 30187466.0000 - val_accuracy: 0.0000e+00 - val_loss: 24110962.0000\n",
      "Epoch 97/200\n",
      "\u001b[1m34/34\u001b[0m \u001b[32m━━━━━━━━━━━━━━━━━━━━\u001b[0m\u001b[37m\u001b[0m \u001b[1m0s\u001b[0m 6ms/step - accuracy: 0.0000e+00 - loss: 31118992.0000 - val_accuracy: 0.0000e+00 - val_loss: 24173054.0000\n",
      "Epoch 98/200\n",
      "\u001b[1m34/34\u001b[0m \u001b[32m━━━━━━━━━━━━━━━━━━━━\u001b[0m\u001b[37m\u001b[0m \u001b[1m0s\u001b[0m 6ms/step - accuracy: 0.0000e+00 - loss: 29020588.0000 - val_accuracy: 0.0000e+00 - val_loss: 24096300.0000\n",
      "Epoch 99/200\n",
      "\u001b[1m34/34\u001b[0m \u001b[32m━━━━━━━━━━━━━━━━━━━━\u001b[0m\u001b[37m\u001b[0m \u001b[1m0s\u001b[0m 7ms/step - accuracy: 0.0000e+00 - loss: 28782504.0000 - val_accuracy: 0.0000e+00 - val_loss: 24076580.0000\n",
      "Epoch 100/200\n",
      "\u001b[1m34/34\u001b[0m \u001b[32m━━━━━━━━━━━━━━━━━━━━\u001b[0m\u001b[37m\u001b[0m \u001b[1m0s\u001b[0m 6ms/step - accuracy: 0.0000e+00 - loss: 30037918.0000 - val_accuracy: 0.0000e+00 - val_loss: 23938682.0000\n",
      "Epoch 101/200\n",
      "\u001b[1m34/34\u001b[0m \u001b[32m━━━━━━━━━━━━━━━━━━━━\u001b[0m\u001b[37m\u001b[0m \u001b[1m0s\u001b[0m 6ms/step - accuracy: 0.0000e+00 - loss: 29441684.0000 - val_accuracy: 0.0000e+00 - val_loss: 23900978.0000\n",
      "Epoch 102/200\n",
      "\u001b[1m34/34\u001b[0m \u001b[32m━━━━━━━━━━━━━━━━━━━━\u001b[0m\u001b[37m\u001b[0m \u001b[1m0s\u001b[0m 6ms/step - accuracy: 0.0000e+00 - loss: 28365032.0000 - val_accuracy: 0.0000e+00 - val_loss: 23887670.0000\n",
      "Epoch 103/200\n",
      "\u001b[1m34/34\u001b[0m \u001b[32m━━━━━━━━━━━━━━━━━━━━\u001b[0m\u001b[37m\u001b[0m \u001b[1m0s\u001b[0m 6ms/step - accuracy: 0.0000e+00 - loss: 33949568.0000 - val_accuracy: 0.0000e+00 - val_loss: 23791386.0000\n",
      "Epoch 104/200\n",
      "\u001b[1m34/34\u001b[0m \u001b[32m━━━━━━━━━━━━━━━━━━━━\u001b[0m\u001b[37m\u001b[0m \u001b[1m0s\u001b[0m 6ms/step - accuracy: 0.0000e+00 - loss: 32888832.0000 - val_accuracy: 0.0000e+00 - val_loss: 23689526.0000\n",
      "Epoch 105/200\n",
      "\u001b[1m34/34\u001b[0m \u001b[32m━━━━━━━━━━━━━━━━━━━━\u001b[0m\u001b[37m\u001b[0m \u001b[1m0s\u001b[0m 7ms/step - accuracy: 0.0000e+00 - loss: 31792246.0000 - val_accuracy: 0.0000e+00 - val_loss: 23639150.0000\n",
      "Epoch 106/200\n",
      "\u001b[1m34/34\u001b[0m \u001b[32m━━━━━━━━━━━━━━━━━━━━\u001b[0m\u001b[37m\u001b[0m \u001b[1m0s\u001b[0m 6ms/step - accuracy: 0.0000e+00 - loss: 31140570.0000 - val_accuracy: 0.0000e+00 - val_loss: 23614120.0000\n",
      "Epoch 107/200\n",
      "\u001b[1m34/34\u001b[0m \u001b[32m━━━━━━━━━━━━━━━━━━━━\u001b[0m\u001b[37m\u001b[0m \u001b[1m0s\u001b[0m 7ms/step - accuracy: 0.0000e+00 - loss: 31434770.0000 - val_accuracy: 0.0000e+00 - val_loss: 23551918.0000\n",
      "Epoch 108/200\n",
      "\u001b[1m34/34\u001b[0m \u001b[32m━━━━━━━━━━━━━━━━━━━━\u001b[0m\u001b[37m\u001b[0m \u001b[1m0s\u001b[0m 7ms/step - accuracy: 0.0000e+00 - loss: 31637282.0000 - val_accuracy: 0.0000e+00 - val_loss: 23457808.0000\n",
      "Epoch 109/200\n",
      "\u001b[1m34/34\u001b[0m \u001b[32m━━━━━━━━━━━━━━━━━━━━\u001b[0m\u001b[37m\u001b[0m \u001b[1m0s\u001b[0m 6ms/step - accuracy: 0.0000e+00 - loss: 27857792.0000 - val_accuracy: 0.0000e+00 - val_loss: 23624880.0000\n",
      "Epoch 110/200\n",
      "\u001b[1m34/34\u001b[0m \u001b[32m━━━━━━━━━━━━━━━━━━━━\u001b[0m\u001b[37m\u001b[0m \u001b[1m0s\u001b[0m 7ms/step - accuracy: 0.0000e+00 - loss: 30801352.0000 - val_accuracy: 0.0000e+00 - val_loss: 23433704.0000\n",
      "Epoch 111/200\n",
      "\u001b[1m34/34\u001b[0m \u001b[32m━━━━━━━━━━━━━━━━━━━━\u001b[0m\u001b[37m\u001b[0m \u001b[1m0s\u001b[0m 6ms/step - accuracy: 0.0000e+00 - loss: 37263232.0000 - val_accuracy: 0.0000e+00 - val_loss: 23344032.0000\n",
      "Epoch 112/200\n",
      "\u001b[1m34/34\u001b[0m \u001b[32m━━━━━━━━━━━━━━━━━━━━\u001b[0m\u001b[37m\u001b[0m \u001b[1m0s\u001b[0m 6ms/step - accuracy: 0.0000e+00 - loss: 28226708.0000 - val_accuracy: 0.0000e+00 - val_loss: 23250708.0000\n",
      "Epoch 113/200\n",
      "\u001b[1m34/34\u001b[0m \u001b[32m━━━━━━━━━━━━━━━━━━━━\u001b[0m\u001b[37m\u001b[0m \u001b[1m0s\u001b[0m 6ms/step - accuracy: 0.0000e+00 - loss: 32346346.0000 - val_accuracy: 0.0000e+00 - val_loss: 23263088.0000\n",
      "Epoch 114/200\n",
      "\u001b[1m34/34\u001b[0m \u001b[32m━━━━━━━━━━━━━━━━━━━━\u001b[0m\u001b[37m\u001b[0m \u001b[1m0s\u001b[0m 6ms/step - accuracy: 0.0000e+00 - loss: 30570118.0000 - val_accuracy: 0.0000e+00 - val_loss: 23273754.0000\n",
      "Epoch 115/200\n",
      "\u001b[1m34/34\u001b[0m \u001b[32m━━━━━━━━━━━━━━━━━━━━\u001b[0m\u001b[37m\u001b[0m \u001b[1m0s\u001b[0m 7ms/step - accuracy: 0.0000e+00 - loss: 25399890.0000 - val_accuracy: 0.0000e+00 - val_loss: 23164756.0000\n",
      "Epoch 116/200\n",
      "\u001b[1m34/34\u001b[0m \u001b[32m━━━━━━━━━━━━━━━━━━━━\u001b[0m\u001b[37m\u001b[0m \u001b[1m0s\u001b[0m 6ms/step - accuracy: 0.0000e+00 - loss: 26916886.0000 - val_accuracy: 0.0000e+00 - val_loss: 23209638.0000\n",
      "Epoch 117/200\n",
      "\u001b[1m34/34\u001b[0m \u001b[32m━━━━━━━━━━━━━━━━━━━━\u001b[0m\u001b[37m\u001b[0m \u001b[1m0s\u001b[0m 7ms/step - accuracy: 0.0000e+00 - loss: 32635388.0000 - val_accuracy: 0.0000e+00 - val_loss: 23242544.0000\n",
      "Epoch 118/200\n",
      "\u001b[1m34/34\u001b[0m \u001b[32m━━━━━━━━━━━━━━━━━━━━\u001b[0m\u001b[37m\u001b[0m \u001b[1m0s\u001b[0m 7ms/step - accuracy: 0.0000e+00 - loss: 30322544.0000 - val_accuracy: 0.0000e+00 - val_loss: 23085538.0000\n",
      "Epoch 119/200\n",
      "\u001b[1m34/34\u001b[0m \u001b[32m━━━━━━━━━━━━━━━━━━━━\u001b[0m\u001b[37m\u001b[0m \u001b[1m0s\u001b[0m 7ms/step - accuracy: 0.0000e+00 - loss: 33261658.0000 - val_accuracy: 0.0000e+00 - val_loss: 23108362.0000\n",
      "Epoch 120/200\n",
      "\u001b[1m34/34\u001b[0m \u001b[32m━━━━━━━━━━━━━━━━━━━━\u001b[0m\u001b[37m\u001b[0m \u001b[1m0s\u001b[0m 7ms/step - accuracy: 0.0000e+00 - loss: 32323616.0000 - val_accuracy: 0.0000e+00 - val_loss: 23095646.0000\n",
      "Epoch 121/200\n",
      "\u001b[1m34/34\u001b[0m \u001b[32m━━━━━━━━━━━━━━━━━━━━\u001b[0m\u001b[37m\u001b[0m \u001b[1m0s\u001b[0m 6ms/step - accuracy: 0.0000e+00 - loss: 26288702.0000 - val_accuracy: 0.0000e+00 - val_loss: 22949692.0000\n",
      "Epoch 122/200\n",
      "\u001b[1m34/34\u001b[0m \u001b[32m━━━━━━━━━━━━━━━━━━━━\u001b[0m\u001b[37m\u001b[0m \u001b[1m0s\u001b[0m 7ms/step - accuracy: 0.0000e+00 - loss: 31407378.0000 - val_accuracy: 0.0000e+00 - val_loss: 22840162.0000\n",
      "Epoch 123/200\n",
      "\u001b[1m34/34\u001b[0m \u001b[32m━━━━━━━━━━━━━━━━━━━━\u001b[0m\u001b[37m\u001b[0m \u001b[1m0s\u001b[0m 7ms/step - accuracy: 0.0000e+00 - loss: 25659454.0000 - val_accuracy: 0.0000e+00 - val_loss: 22952342.0000\n",
      "Epoch 124/200\n",
      "\u001b[1m34/34\u001b[0m \u001b[32m━━━━━━━━━━━━━━━━━━━━\u001b[0m\u001b[37m\u001b[0m \u001b[1m0s\u001b[0m 7ms/step - accuracy: 0.0000e+00 - loss: 31986700.0000 - val_accuracy: 0.0000e+00 - val_loss: 22906102.0000\n",
      "Epoch 125/200\n",
      "\u001b[1m34/34\u001b[0m \u001b[32m━━━━━━━━━━━━━━━━━━━━\u001b[0m\u001b[37m\u001b[0m \u001b[1m0s\u001b[0m 6ms/step - accuracy: 0.0000e+00 - loss: 28484258.0000 - val_accuracy: 0.0000e+00 - val_loss: 22899400.0000\n",
      "Epoch 126/200\n",
      "\u001b[1m34/34\u001b[0m \u001b[32m━━━━━━━━━━━━━━━━━━━━\u001b[0m\u001b[37m\u001b[0m \u001b[1m0s\u001b[0m 6ms/step - accuracy: 0.0000e+00 - loss: 31070056.0000 - val_accuracy: 0.0000e+00 - val_loss: 22950570.0000\n"
     ]
    }
   ],
   "source": [
    "history = model.fit(x_train,y_train,epochs=200,validation_data=(x_test,y_test),callbacks=[tensorboard_callback,early_stopping])"
   ]
  },
  {
   "cell_type": "code",
   "execution_count": 28,
   "id": "660bf9e2",
   "metadata": {
    "execution": {
     "iopub.execute_input": "2025-05-31T16:51:41.762730Z",
     "iopub.status.busy": "2025-05-31T16:51:41.762415Z",
     "iopub.status.idle": "2025-05-31T16:51:42.068838Z",
     "shell.execute_reply": "2025-05-31T16:51:42.068009Z"
    },
    "papermill": {
     "duration": 0.339734,
     "end_time": "2025-05-31T16:51:42.070197",
     "exception": false,
     "start_time": "2025-05-31T16:51:41.730463",
     "status": "completed"
    },
    "tags": []
   },
   "outputs": [
    {
     "data": {
      "image/png": "[encoded data removed]",
      "text/plain": [
       "<Figure size 800x500 with 1 Axes>"
      ]
     },
     "metadata": {},
     "output_type": "display_data"
    }
   ],
   "source": [
    "import matplotlib.pyplot as plt\n",
    "hist_dict = history.history\n",
    "acc = hist_dict['loss']\n",
    "val_acc = hist_dict['val_loss']\n",
    "epochs = range(1, len(acc) + 1)\n",
    "\n",
    "# Plot\n",
    "plt.figure(figsize=(8, 5))\n",
    "plt.plot(epochs, acc, 'b-', label='Training Accuracy')\n",
    "plt.plot(epochs, val_acc, 'r--', label='Validation Accuracy')\n",
    "plt.title('Training and Validation Accuracy')\n",
    "plt.xlabel('Epochs')\n",
    "plt.ylabel('Accuracy')\n",
    "plt.legend()\n",
    "plt.grid(True)\n",
    "plt.show()"
   ]
  },
  {
   "cell_type": "code",
   "execution_count": 29,
   "id": "592bc2c0",
   "metadata": {
    "execution": {
     "iopub.execute_input": "2025-05-31T16:51:42.135500Z",
     "iopub.status.busy": "2025-05-31T16:51:42.134691Z",
     "iopub.status.idle": "2025-05-31T16:51:42.354792Z",
     "shell.execute_reply": "2025-05-31T16:51:42.353770Z"
    },
    "papermill": {
     "duration": 0.254436,
     "end_time": "2025-05-31T16:51:42.356156",
     "exception": false,
     "start_time": "2025-05-31T16:51:42.101720",
     "status": "completed"
    },
    "tags": []
   },
   "outputs": [
    {
     "name": "stdout",
     "output_type": "stream",
     "text": [
      "\u001b[1m9/9\u001b[0m \u001b[32m━━━━━━━━━━━━━━━━━━━━\u001b[0m\u001b[37m\u001b[0m \u001b[1m0s\u001b[0m 9ms/step\n",
      "[[10267.794 ]\n",
      " [ 5951.4917]\n",
      " [34769.56  ]\n",
      " [10525.429 ]\n",
      " [27378.879 ]]\n"
     ]
    }
   ],
   "source": [
    "# Predict on test data (or any input)\n",
    "predictions = model.predict(x_test)  # X_test must match input shape used in training\n",
    "\n",
    "# Print the first few predictions\n",
    "print(predictions[:5])\n"
   ]
  },
  {
   "cell_type": "code",
   "execution_count": 30,
   "id": "448482e7",
   "metadata": {
    "execution": {
     "iopub.execute_input": "2025-05-31T16:51:42.421249Z",
     "iopub.status.busy": "2025-05-31T16:51:42.420945Z",
     "iopub.status.idle": "2025-05-31T16:51:42.515451Z",
     "shell.execute_reply": "2025-05-31T16:51:42.514529Z"
    },
    "papermill": {
     "duration": 0.128657,
     "end_time": "2025-05-31T16:51:42.517087",
     "exception": false,
     "start_time": "2025-05-31T16:51:42.388430",
     "status": "completed"
    },
    "tags": []
   },
   "outputs": [
    {
     "name": "stdout",
     "output_type": "stream",
     "text": [
      "\u001b[1m1/1\u001b[0m \u001b[32m━━━━━━━━━━━━━━━━━━━━\u001b[0m\u001b[37m\u001b[0m \u001b[1m0s\u001b[0m 34ms/step\n",
      "Predicted value: 298242.56\n"
     ]
    }
   ],
   "source": [
    "## Actual prediction \n",
    "import numpy as np\n",
    "\n",
    "# Create a single sample with correct shape (1, 9)\n",
    "sample = np.array([[19, 0, 27.900, 0, 1, 0.0, 0.0, 0.0, 1.0]])\n",
    "\n",
    "# Predict using your trained model\n",
    "prediction = model.predict(sample)\n",
    "\n",
    "# Output the predicted value\n",
    "print(\"Predicted value:\", prediction[0][0])\n"
   ]
  },
  {
   "cell_type": "code",
   "execution_count": null,
   "id": "b5467655",
   "metadata": {
    "papermill": {
     "duration": 0.030986,
     "end_time": "2025-05-31T16:51:42.579880",
     "exception": false,
     "start_time": "2025-05-31T16:51:42.548894",
     "status": "completed"
    },
    "tags": []
   },
   "outputs": [],
   "source": []
  },
  {
   "cell_type": "code",
   "execution_count": null,
   "id": "90b672f5",
   "metadata": {
    "papermill": {
     "duration": 0.031123,
     "end_time": "2025-05-31T16:51:42.642072",
     "exception": false,
     "start_time": "2025-05-31T16:51:42.610949",
     "status": "completed"
    },
    "tags": []
   },
   "outputs": [],
   "source": []
  }
 ],
 "metadata": {
  "kaggle": {
   "accelerator": "none",
   "dataSources": [
    {
     "databundleVersionId": 18513,
     "datasetId": 13720,
     "sourceId": 18513,
     "sourceType": "datasetVersion"
    }
   ],
   "dockerImageVersionId": 31040,
   "isGpuEnabled": false,
   "isInternetEnabled": false,
   "language": "python",
   "sourceType": "notebook"
  },
  "kernelspec": {
   "display_name": "Python 3",
   "language": "python",
   "name": "python3"
  },
  "language_info": {
   "codemirror_mode": {
    "name": "ipython",
    "version": 3
   },
   "file_extension": ".py",
   "mimetype": "text/x-python",
   "name": "python",
   "nbconvert_exporter": "python",
   "pygments_lexer": "ipython3",
   "version": "3.11.11"
  },
  "papermill": {
   "default_parameters": {},
   "duration": 85.078137,
   "end_time": "2025-05-31T16:51:46.125270",
   "environment_variables": {},
   "exception": null,
   "input_path": "__notebook__.ipynb",
   "output_path": "__notebook__.ipynb",
   "parameters": {},
   "start_time": "2025-05-31T16:50:21.047133",
   "version": "2.6.0"
  }
 },
 "nbformat": 4,
 "nbformat_minor": 5
}
